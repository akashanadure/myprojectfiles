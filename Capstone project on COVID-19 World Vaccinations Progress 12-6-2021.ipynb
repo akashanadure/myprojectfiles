{
 "cells": [
  {
   "cell_type": "code",
   "execution_count": 1,
   "metadata": {},
   "outputs": [],
   "source": [
    "import pandas as pd\n",
    "import numpy as np\n",
    "import matplotlib.pyplot as plt\n",
    "import seaborn as sns"
   ]
  },
  {
   "cell_type": "code",
   "execution_count": 2,
   "metadata": {},
   "outputs": [],
   "source": [
    "vac=pd.read_csv(r\"C:\\Users\\DELL\\Downloads\\country_vaccinations.csv\")"
   ]
  },
  {
   "cell_type": "code",
   "execution_count": 3,
   "metadata": {},
   "outputs": [
    {
     "data": {
      "text/html": [
       "<div>\n",
       "<style scoped>\n",
       "    .dataframe tbody tr th:only-of-type {\n",
       "        vertical-align: middle;\n",
       "    }\n",
       "\n",
       "    .dataframe tbody tr th {\n",
       "        vertical-align: top;\n",
       "    }\n",
       "\n",
       "    .dataframe thead th {\n",
       "        text-align: right;\n",
       "    }\n",
       "</style>\n",
       "<table border=\"1\" class=\"dataframe\">\n",
       "  <thead>\n",
       "    <tr style=\"text-align: right;\">\n",
       "      <th></th>\n",
       "      <th>country</th>\n",
       "      <th>iso_code</th>\n",
       "      <th>date</th>\n",
       "      <th>total_vaccinations</th>\n",
       "      <th>people_vaccinated</th>\n",
       "      <th>people_fully_vaccinated</th>\n",
       "      <th>daily_vaccinations_raw</th>\n",
       "      <th>daily_vaccinations</th>\n",
       "      <th>total_vaccinations_per_hundred</th>\n",
       "      <th>people_vaccinated_per_hundred</th>\n",
       "      <th>people_fully_vaccinated_per_hundred</th>\n",
       "      <th>daily_vaccinations_per_million</th>\n",
       "      <th>vaccines</th>\n",
       "      <th>source_name</th>\n",
       "      <th>source_website</th>\n",
       "    </tr>\n",
       "  </thead>\n",
       "  <tbody>\n",
       "    <tr>\n",
       "      <th>0</th>\n",
       "      <td>Afghanistan</td>\n",
       "      <td>AFG</td>\n",
       "      <td>22-02-2021</td>\n",
       "      <td>0.0</td>\n",
       "      <td>0.0</td>\n",
       "      <td>NaN</td>\n",
       "      <td>NaN</td>\n",
       "      <td>NaN</td>\n",
       "      <td>0.0</td>\n",
       "      <td>0.0</td>\n",
       "      <td>NaN</td>\n",
       "      <td>NaN</td>\n",
       "      <td>Oxford/AstraZeneca, Pfizer/BioNTech, Sinopharm...</td>\n",
       "      <td>World Health Organization</td>\n",
       "      <td>https://covid19.who.int/</td>\n",
       "    </tr>\n",
       "    <tr>\n",
       "      <th>1</th>\n",
       "      <td>Afghanistan</td>\n",
       "      <td>AFG</td>\n",
       "      <td>23-02-2021</td>\n",
       "      <td>NaN</td>\n",
       "      <td>NaN</td>\n",
       "      <td>NaN</td>\n",
       "      <td>NaN</td>\n",
       "      <td>1367.0</td>\n",
       "      <td>NaN</td>\n",
       "      <td>NaN</td>\n",
       "      <td>NaN</td>\n",
       "      <td>35.0</td>\n",
       "      <td>Oxford/AstraZeneca, Pfizer/BioNTech, Sinopharm...</td>\n",
       "      <td>World Health Organization</td>\n",
       "      <td>https://covid19.who.int/</td>\n",
       "    </tr>\n",
       "    <tr>\n",
       "      <th>2</th>\n",
       "      <td>Afghanistan</td>\n",
       "      <td>AFG</td>\n",
       "      <td>24-02-2021</td>\n",
       "      <td>NaN</td>\n",
       "      <td>NaN</td>\n",
       "      <td>NaN</td>\n",
       "      <td>NaN</td>\n",
       "      <td>1367.0</td>\n",
       "      <td>NaN</td>\n",
       "      <td>NaN</td>\n",
       "      <td>NaN</td>\n",
       "      <td>35.0</td>\n",
       "      <td>Oxford/AstraZeneca, Pfizer/BioNTech, Sinopharm...</td>\n",
       "      <td>World Health Organization</td>\n",
       "      <td>https://covid19.who.int/</td>\n",
       "    </tr>\n",
       "    <tr>\n",
       "      <th>3</th>\n",
       "      <td>Afghanistan</td>\n",
       "      <td>AFG</td>\n",
       "      <td>25-02-2021</td>\n",
       "      <td>NaN</td>\n",
       "      <td>NaN</td>\n",
       "      <td>NaN</td>\n",
       "      <td>NaN</td>\n",
       "      <td>1367.0</td>\n",
       "      <td>NaN</td>\n",
       "      <td>NaN</td>\n",
       "      <td>NaN</td>\n",
       "      <td>35.0</td>\n",
       "      <td>Oxford/AstraZeneca, Pfizer/BioNTech, Sinopharm...</td>\n",
       "      <td>World Health Organization</td>\n",
       "      <td>https://covid19.who.int/</td>\n",
       "    </tr>\n",
       "    <tr>\n",
       "      <th>4</th>\n",
       "      <td>Afghanistan</td>\n",
       "      <td>AFG</td>\n",
       "      <td>26-02-2021</td>\n",
       "      <td>NaN</td>\n",
       "      <td>NaN</td>\n",
       "      <td>NaN</td>\n",
       "      <td>NaN</td>\n",
       "      <td>1367.0</td>\n",
       "      <td>NaN</td>\n",
       "      <td>NaN</td>\n",
       "      <td>NaN</td>\n",
       "      <td>35.0</td>\n",
       "      <td>Oxford/AstraZeneca, Pfizer/BioNTech, Sinopharm...</td>\n",
       "      <td>World Health Organization</td>\n",
       "      <td>https://covid19.who.int/</td>\n",
       "    </tr>\n",
       "  </tbody>\n",
       "</table>\n",
       "</div>"
      ],
      "text/plain": [
       "       country iso_code        date  total_vaccinations  people_vaccinated  \\\n",
       "0  Afghanistan      AFG  22-02-2021                 0.0                0.0   \n",
       "1  Afghanistan      AFG  23-02-2021                 NaN                NaN   \n",
       "2  Afghanistan      AFG  24-02-2021                 NaN                NaN   \n",
       "3  Afghanistan      AFG  25-02-2021                 NaN                NaN   \n",
       "4  Afghanistan      AFG  26-02-2021                 NaN                NaN   \n",
       "\n",
       "   people_fully_vaccinated  daily_vaccinations_raw  daily_vaccinations  \\\n",
       "0                      NaN                     NaN                 NaN   \n",
       "1                      NaN                     NaN              1367.0   \n",
       "2                      NaN                     NaN              1367.0   \n",
       "3                      NaN                     NaN              1367.0   \n",
       "4                      NaN                     NaN              1367.0   \n",
       "\n",
       "   total_vaccinations_per_hundred  people_vaccinated_per_hundred  \\\n",
       "0                             0.0                            0.0   \n",
       "1                             NaN                            NaN   \n",
       "2                             NaN                            NaN   \n",
       "3                             NaN                            NaN   \n",
       "4                             NaN                            NaN   \n",
       "\n",
       "   people_fully_vaccinated_per_hundred  daily_vaccinations_per_million  \\\n",
       "0                                  NaN                             NaN   \n",
       "1                                  NaN                            35.0   \n",
       "2                                  NaN                            35.0   \n",
       "3                                  NaN                            35.0   \n",
       "4                                  NaN                            35.0   \n",
       "\n",
       "                                            vaccines  \\\n",
       "0  Oxford/AstraZeneca, Pfizer/BioNTech, Sinopharm...   \n",
       "1  Oxford/AstraZeneca, Pfizer/BioNTech, Sinopharm...   \n",
       "2  Oxford/AstraZeneca, Pfizer/BioNTech, Sinopharm...   \n",
       "3  Oxford/AstraZeneca, Pfizer/BioNTech, Sinopharm...   \n",
       "4  Oxford/AstraZeneca, Pfizer/BioNTech, Sinopharm...   \n",
       "\n",
       "                 source_name            source_website  \n",
       "0  World Health Organization  https://covid19.who.int/  \n",
       "1  World Health Organization  https://covid19.who.int/  \n",
       "2  World Health Organization  https://covid19.who.int/  \n",
       "3  World Health Organization  https://covid19.who.int/  \n",
       "4  World Health Organization  https://covid19.who.int/  "
      ]
     },
     "execution_count": 3,
     "metadata": {},
     "output_type": "execute_result"
    }
   ],
   "source": [
    "vac.head()"
   ]
  },
  {
   "cell_type": "code",
   "execution_count": 4,
   "metadata": {},
   "outputs": [
    {
     "data": {
      "text/html": [
       "<div>\n",
       "<style scoped>\n",
       "    .dataframe tbody tr th:only-of-type {\n",
       "        vertical-align: middle;\n",
       "    }\n",
       "\n",
       "    .dataframe tbody tr th {\n",
       "        vertical-align: top;\n",
       "    }\n",
       "\n",
       "    .dataframe thead th {\n",
       "        text-align: right;\n",
       "    }\n",
       "</style>\n",
       "<table border=\"1\" class=\"dataframe\">\n",
       "  <thead>\n",
       "    <tr style=\"text-align: right;\">\n",
       "      <th></th>\n",
       "      <th>country</th>\n",
       "      <th>iso_code</th>\n",
       "      <th>date</th>\n",
       "      <th>total_vaccinations</th>\n",
       "      <th>people_vaccinated</th>\n",
       "      <th>people_fully_vaccinated</th>\n",
       "      <th>daily_vaccinations_raw</th>\n",
       "      <th>daily_vaccinations</th>\n",
       "      <th>total_vaccinations_per_hundred</th>\n",
       "      <th>people_vaccinated_per_hundred</th>\n",
       "      <th>people_fully_vaccinated_per_hundred</th>\n",
       "      <th>daily_vaccinations_per_million</th>\n",
       "      <th>vaccines</th>\n",
       "      <th>source_name</th>\n",
       "      <th>source_website</th>\n",
       "    </tr>\n",
       "  </thead>\n",
       "  <tbody>\n",
       "    <tr>\n",
       "      <th>23463</th>\n",
       "      <td>Zimbabwe</td>\n",
       "      <td>ZWE</td>\n",
       "      <td>03-06-2021</td>\n",
       "      <td>1048504.0</td>\n",
       "      <td>684164.0</td>\n",
       "      <td>364340.0</td>\n",
       "      <td>8290.0</td>\n",
       "      <td>13588.0</td>\n",
       "      <td>7.05</td>\n",
       "      <td>4.60</td>\n",
       "      <td>2.45</td>\n",
       "      <td>914.0</td>\n",
       "      <td>Sinopharm/Beijing</td>\n",
       "      <td>Ministry of Health</td>\n",
       "      <td>https://twitter.com/MoHCCZim/status/1402025430...</td>\n",
       "    </tr>\n",
       "    <tr>\n",
       "      <th>23464</th>\n",
       "      <td>Zimbabwe</td>\n",
       "      <td>ZWE</td>\n",
       "      <td>04-06-2021</td>\n",
       "      <td>1056238.0</td>\n",
       "      <td>685564.0</td>\n",
       "      <td>370674.0</td>\n",
       "      <td>7734.0</td>\n",
       "      <td>11349.0</td>\n",
       "      <td>7.11</td>\n",
       "      <td>4.61</td>\n",
       "      <td>2.49</td>\n",
       "      <td>764.0</td>\n",
       "      <td>Sinopharm/Beijing</td>\n",
       "      <td>Ministry of Health</td>\n",
       "      <td>https://twitter.com/MoHCCZim/status/1402025430...</td>\n",
       "    </tr>\n",
       "    <tr>\n",
       "      <th>23465</th>\n",
       "      <td>Zimbabwe</td>\n",
       "      <td>ZWE</td>\n",
       "      <td>05-06-2021</td>\n",
       "      <td>1061951.0</td>\n",
       "      <td>686636.0</td>\n",
       "      <td>375315.0</td>\n",
       "      <td>5713.0</td>\n",
       "      <td>8498.0</td>\n",
       "      <td>7.14</td>\n",
       "      <td>4.62</td>\n",
       "      <td>2.53</td>\n",
       "      <td>572.0</td>\n",
       "      <td>Sinopharm/Beijing</td>\n",
       "      <td>Ministry of Health</td>\n",
       "      <td>https://twitter.com/MoHCCZim/status/1402025430...</td>\n",
       "    </tr>\n",
       "    <tr>\n",
       "      <th>23466</th>\n",
       "      <td>Zimbabwe</td>\n",
       "      <td>ZWE</td>\n",
       "      <td>06-06-2021</td>\n",
       "      <td>1068107.0</td>\n",
       "      <td>687321.0</td>\n",
       "      <td>380786.0</td>\n",
       "      <td>6156.0</td>\n",
       "      <td>8019.0</td>\n",
       "      <td>7.19</td>\n",
       "      <td>4.62</td>\n",
       "      <td>2.56</td>\n",
       "      <td>540.0</td>\n",
       "      <td>Sinopharm/Beijing</td>\n",
       "      <td>Ministry of Health</td>\n",
       "      <td>https://twitter.com/MoHCCZim/status/1402025430...</td>\n",
       "    </tr>\n",
       "    <tr>\n",
       "      <th>23467</th>\n",
       "      <td>Zimbabwe</td>\n",
       "      <td>ZWE</td>\n",
       "      <td>07-06-2021</td>\n",
       "      <td>1073971.0</td>\n",
       "      <td>688696.0</td>\n",
       "      <td>385275.0</td>\n",
       "      <td>5864.0</td>\n",
       "      <td>7699.0</td>\n",
       "      <td>7.23</td>\n",
       "      <td>4.63</td>\n",
       "      <td>2.59</td>\n",
       "      <td>518.0</td>\n",
       "      <td>Sinopharm/Beijing</td>\n",
       "      <td>Ministry of Health</td>\n",
       "      <td>https://twitter.com/MoHCCZim/status/1402025430...</td>\n",
       "    </tr>\n",
       "  </tbody>\n",
       "</table>\n",
       "</div>"
      ],
      "text/plain": [
       "        country iso_code        date  total_vaccinations  people_vaccinated  \\\n",
       "23463  Zimbabwe      ZWE  03-06-2021           1048504.0           684164.0   \n",
       "23464  Zimbabwe      ZWE  04-06-2021           1056238.0           685564.0   \n",
       "23465  Zimbabwe      ZWE  05-06-2021           1061951.0           686636.0   \n",
       "23466  Zimbabwe      ZWE  06-06-2021           1068107.0           687321.0   \n",
       "23467  Zimbabwe      ZWE  07-06-2021           1073971.0           688696.0   \n",
       "\n",
       "       people_fully_vaccinated  daily_vaccinations_raw  daily_vaccinations  \\\n",
       "23463                 364340.0                  8290.0             13588.0   \n",
       "23464                 370674.0                  7734.0             11349.0   \n",
       "23465                 375315.0                  5713.0              8498.0   \n",
       "23466                 380786.0                  6156.0              8019.0   \n",
       "23467                 385275.0                  5864.0              7699.0   \n",
       "\n",
       "       total_vaccinations_per_hundred  people_vaccinated_per_hundred  \\\n",
       "23463                            7.05                           4.60   \n",
       "23464                            7.11                           4.61   \n",
       "23465                            7.14                           4.62   \n",
       "23466                            7.19                           4.62   \n",
       "23467                            7.23                           4.63   \n",
       "\n",
       "       people_fully_vaccinated_per_hundred  daily_vaccinations_per_million  \\\n",
       "23463                                 2.45                           914.0   \n",
       "23464                                 2.49                           764.0   \n",
       "23465                                 2.53                           572.0   \n",
       "23466                                 2.56                           540.0   \n",
       "23467                                 2.59                           518.0   \n",
       "\n",
       "                vaccines         source_name  \\\n",
       "23463  Sinopharm/Beijing  Ministry of Health   \n",
       "23464  Sinopharm/Beijing  Ministry of Health   \n",
       "23465  Sinopharm/Beijing  Ministry of Health   \n",
       "23466  Sinopharm/Beijing  Ministry of Health   \n",
       "23467  Sinopharm/Beijing  Ministry of Health   \n",
       "\n",
       "                                          source_website  \n",
       "23463  https://twitter.com/MoHCCZim/status/1402025430...  \n",
       "23464  https://twitter.com/MoHCCZim/status/1402025430...  \n",
       "23465  https://twitter.com/MoHCCZim/status/1402025430...  \n",
       "23466  https://twitter.com/MoHCCZim/status/1402025430...  \n",
       "23467  https://twitter.com/MoHCCZim/status/1402025430...  "
      ]
     },
     "execution_count": 4,
     "metadata": {},
     "output_type": "execute_result"
    }
   ],
   "source": [
    "vac.tail()"
   ]
  },
  {
   "cell_type": "code",
   "execution_count": 5,
   "metadata": {},
   "outputs": [
    {
     "data": {
      "text/html": [
       "<div>\n",
       "<style scoped>\n",
       "    .dataframe tbody tr th:only-of-type {\n",
       "        vertical-align: middle;\n",
       "    }\n",
       "\n",
       "    .dataframe tbody tr th {\n",
       "        vertical-align: top;\n",
       "    }\n",
       "\n",
       "    .dataframe thead th {\n",
       "        text-align: right;\n",
       "    }\n",
       "</style>\n",
       "<table border=\"1\" class=\"dataframe\">\n",
       "  <thead>\n",
       "    <tr style=\"text-align: right;\">\n",
       "      <th></th>\n",
       "      <th>country</th>\n",
       "      <th>iso_code</th>\n",
       "      <th>date</th>\n",
       "      <th>total_vaccinations</th>\n",
       "      <th>people_vaccinated</th>\n",
       "      <th>people_fully_vaccinated</th>\n",
       "      <th>daily_vaccinations_raw</th>\n",
       "      <th>daily_vaccinations</th>\n",
       "      <th>total_vaccinations_per_hundred</th>\n",
       "      <th>people_vaccinated_per_hundred</th>\n",
       "      <th>people_fully_vaccinated_per_hundred</th>\n",
       "      <th>daily_vaccinations_per_million</th>\n",
       "      <th>vaccines</th>\n",
       "      <th>source_name</th>\n",
       "      <th>source_website</th>\n",
       "    </tr>\n",
       "  </thead>\n",
       "  <tbody>\n",
       "    <tr>\n",
       "      <th>0</th>\n",
       "      <td>Afghanistan</td>\n",
       "      <td>AFG</td>\n",
       "      <td>22-02-2021</td>\n",
       "      <td>0.0</td>\n",
       "      <td>0.0</td>\n",
       "      <td>NaN</td>\n",
       "      <td>NaN</td>\n",
       "      <td>NaN</td>\n",
       "      <td>0.00</td>\n",
       "      <td>0.00</td>\n",
       "      <td>NaN</td>\n",
       "      <td>NaN</td>\n",
       "      <td>Oxford/AstraZeneca, Pfizer/BioNTech, Sinopharm...</td>\n",
       "      <td>World Health Organization</td>\n",
       "      <td>https://covid19.who.int/</td>\n",
       "    </tr>\n",
       "    <tr>\n",
       "      <th>1</th>\n",
       "      <td>Afghanistan</td>\n",
       "      <td>AFG</td>\n",
       "      <td>23-02-2021</td>\n",
       "      <td>NaN</td>\n",
       "      <td>NaN</td>\n",
       "      <td>NaN</td>\n",
       "      <td>NaN</td>\n",
       "      <td>1367.0</td>\n",
       "      <td>NaN</td>\n",
       "      <td>NaN</td>\n",
       "      <td>NaN</td>\n",
       "      <td>35.0</td>\n",
       "      <td>Oxford/AstraZeneca, Pfizer/BioNTech, Sinopharm...</td>\n",
       "      <td>World Health Organization</td>\n",
       "      <td>https://covid19.who.int/</td>\n",
       "    </tr>\n",
       "    <tr>\n",
       "      <th>2</th>\n",
       "      <td>Afghanistan</td>\n",
       "      <td>AFG</td>\n",
       "      <td>24-02-2021</td>\n",
       "      <td>NaN</td>\n",
       "      <td>NaN</td>\n",
       "      <td>NaN</td>\n",
       "      <td>NaN</td>\n",
       "      <td>1367.0</td>\n",
       "      <td>NaN</td>\n",
       "      <td>NaN</td>\n",
       "      <td>NaN</td>\n",
       "      <td>35.0</td>\n",
       "      <td>Oxford/AstraZeneca, Pfizer/BioNTech, Sinopharm...</td>\n",
       "      <td>World Health Organization</td>\n",
       "      <td>https://covid19.who.int/</td>\n",
       "    </tr>\n",
       "    <tr>\n",
       "      <th>3</th>\n",
       "      <td>Afghanistan</td>\n",
       "      <td>AFG</td>\n",
       "      <td>25-02-2021</td>\n",
       "      <td>NaN</td>\n",
       "      <td>NaN</td>\n",
       "      <td>NaN</td>\n",
       "      <td>NaN</td>\n",
       "      <td>1367.0</td>\n",
       "      <td>NaN</td>\n",
       "      <td>NaN</td>\n",
       "      <td>NaN</td>\n",
       "      <td>35.0</td>\n",
       "      <td>Oxford/AstraZeneca, Pfizer/BioNTech, Sinopharm...</td>\n",
       "      <td>World Health Organization</td>\n",
       "      <td>https://covid19.who.int/</td>\n",
       "    </tr>\n",
       "    <tr>\n",
       "      <th>4</th>\n",
       "      <td>Afghanistan</td>\n",
       "      <td>AFG</td>\n",
       "      <td>26-02-2021</td>\n",
       "      <td>NaN</td>\n",
       "      <td>NaN</td>\n",
       "      <td>NaN</td>\n",
       "      <td>NaN</td>\n",
       "      <td>1367.0</td>\n",
       "      <td>NaN</td>\n",
       "      <td>NaN</td>\n",
       "      <td>NaN</td>\n",
       "      <td>35.0</td>\n",
       "      <td>Oxford/AstraZeneca, Pfizer/BioNTech, Sinopharm...</td>\n",
       "      <td>World Health Organization</td>\n",
       "      <td>https://covid19.who.int/</td>\n",
       "    </tr>\n",
       "    <tr>\n",
       "      <th>...</th>\n",
       "      <td>...</td>\n",
       "      <td>...</td>\n",
       "      <td>...</td>\n",
       "      <td>...</td>\n",
       "      <td>...</td>\n",
       "      <td>...</td>\n",
       "      <td>...</td>\n",
       "      <td>...</td>\n",
       "      <td>...</td>\n",
       "      <td>...</td>\n",
       "      <td>...</td>\n",
       "      <td>...</td>\n",
       "      <td>...</td>\n",
       "      <td>...</td>\n",
       "      <td>...</td>\n",
       "    </tr>\n",
       "    <tr>\n",
       "      <th>23463</th>\n",
       "      <td>Zimbabwe</td>\n",
       "      <td>ZWE</td>\n",
       "      <td>03-06-2021</td>\n",
       "      <td>1048504.0</td>\n",
       "      <td>684164.0</td>\n",
       "      <td>364340.0</td>\n",
       "      <td>8290.0</td>\n",
       "      <td>13588.0</td>\n",
       "      <td>7.05</td>\n",
       "      <td>4.60</td>\n",
       "      <td>2.45</td>\n",
       "      <td>914.0</td>\n",
       "      <td>Sinopharm/Beijing</td>\n",
       "      <td>Ministry of Health</td>\n",
       "      <td>https://twitter.com/MoHCCZim/status/1402025430...</td>\n",
       "    </tr>\n",
       "    <tr>\n",
       "      <th>23464</th>\n",
       "      <td>Zimbabwe</td>\n",
       "      <td>ZWE</td>\n",
       "      <td>04-06-2021</td>\n",
       "      <td>1056238.0</td>\n",
       "      <td>685564.0</td>\n",
       "      <td>370674.0</td>\n",
       "      <td>7734.0</td>\n",
       "      <td>11349.0</td>\n",
       "      <td>7.11</td>\n",
       "      <td>4.61</td>\n",
       "      <td>2.49</td>\n",
       "      <td>764.0</td>\n",
       "      <td>Sinopharm/Beijing</td>\n",
       "      <td>Ministry of Health</td>\n",
       "      <td>https://twitter.com/MoHCCZim/status/1402025430...</td>\n",
       "    </tr>\n",
       "    <tr>\n",
       "      <th>23465</th>\n",
       "      <td>Zimbabwe</td>\n",
       "      <td>ZWE</td>\n",
       "      <td>05-06-2021</td>\n",
       "      <td>1061951.0</td>\n",
       "      <td>686636.0</td>\n",
       "      <td>375315.0</td>\n",
       "      <td>5713.0</td>\n",
       "      <td>8498.0</td>\n",
       "      <td>7.14</td>\n",
       "      <td>4.62</td>\n",
       "      <td>2.53</td>\n",
       "      <td>572.0</td>\n",
       "      <td>Sinopharm/Beijing</td>\n",
       "      <td>Ministry of Health</td>\n",
       "      <td>https://twitter.com/MoHCCZim/status/1402025430...</td>\n",
       "    </tr>\n",
       "    <tr>\n",
       "      <th>23466</th>\n",
       "      <td>Zimbabwe</td>\n",
       "      <td>ZWE</td>\n",
       "      <td>06-06-2021</td>\n",
       "      <td>1068107.0</td>\n",
       "      <td>687321.0</td>\n",
       "      <td>380786.0</td>\n",
       "      <td>6156.0</td>\n",
       "      <td>8019.0</td>\n",
       "      <td>7.19</td>\n",
       "      <td>4.62</td>\n",
       "      <td>2.56</td>\n",
       "      <td>540.0</td>\n",
       "      <td>Sinopharm/Beijing</td>\n",
       "      <td>Ministry of Health</td>\n",
       "      <td>https://twitter.com/MoHCCZim/status/1402025430...</td>\n",
       "    </tr>\n",
       "    <tr>\n",
       "      <th>23467</th>\n",
       "      <td>Zimbabwe</td>\n",
       "      <td>ZWE</td>\n",
       "      <td>07-06-2021</td>\n",
       "      <td>1073971.0</td>\n",
       "      <td>688696.0</td>\n",
       "      <td>385275.0</td>\n",
       "      <td>5864.0</td>\n",
       "      <td>7699.0</td>\n",
       "      <td>7.23</td>\n",
       "      <td>4.63</td>\n",
       "      <td>2.59</td>\n",
       "      <td>518.0</td>\n",
       "      <td>Sinopharm/Beijing</td>\n",
       "      <td>Ministry of Health</td>\n",
       "      <td>https://twitter.com/MoHCCZim/status/1402025430...</td>\n",
       "    </tr>\n",
       "  </tbody>\n",
       "</table>\n",
       "<p>23468 rows × 15 columns</p>\n",
       "</div>"
      ],
      "text/plain": [
       "           country iso_code        date  total_vaccinations  \\\n",
       "0      Afghanistan      AFG  22-02-2021                 0.0   \n",
       "1      Afghanistan      AFG  23-02-2021                 NaN   \n",
       "2      Afghanistan      AFG  24-02-2021                 NaN   \n",
       "3      Afghanistan      AFG  25-02-2021                 NaN   \n",
       "4      Afghanistan      AFG  26-02-2021                 NaN   \n",
       "...            ...      ...         ...                 ...   \n",
       "23463     Zimbabwe      ZWE  03-06-2021           1048504.0   \n",
       "23464     Zimbabwe      ZWE  04-06-2021           1056238.0   \n",
       "23465     Zimbabwe      ZWE  05-06-2021           1061951.0   \n",
       "23466     Zimbabwe      ZWE  06-06-2021           1068107.0   \n",
       "23467     Zimbabwe      ZWE  07-06-2021           1073971.0   \n",
       "\n",
       "       people_vaccinated  people_fully_vaccinated  daily_vaccinations_raw  \\\n",
       "0                    0.0                      NaN                     NaN   \n",
       "1                    NaN                      NaN                     NaN   \n",
       "2                    NaN                      NaN                     NaN   \n",
       "3                    NaN                      NaN                     NaN   \n",
       "4                    NaN                      NaN                     NaN   \n",
       "...                  ...                      ...                     ...   \n",
       "23463           684164.0                 364340.0                  8290.0   \n",
       "23464           685564.0                 370674.0                  7734.0   \n",
       "23465           686636.0                 375315.0                  5713.0   \n",
       "23466           687321.0                 380786.0                  6156.0   \n",
       "23467           688696.0                 385275.0                  5864.0   \n",
       "\n",
       "       daily_vaccinations  total_vaccinations_per_hundred  \\\n",
       "0                     NaN                            0.00   \n",
       "1                  1367.0                             NaN   \n",
       "2                  1367.0                             NaN   \n",
       "3                  1367.0                             NaN   \n",
       "4                  1367.0                             NaN   \n",
       "...                   ...                             ...   \n",
       "23463             13588.0                            7.05   \n",
       "23464             11349.0                            7.11   \n",
       "23465              8498.0                            7.14   \n",
       "23466              8019.0                            7.19   \n",
       "23467              7699.0                            7.23   \n",
       "\n",
       "       people_vaccinated_per_hundred  people_fully_vaccinated_per_hundred  \\\n",
       "0                               0.00                                  NaN   \n",
       "1                                NaN                                  NaN   \n",
       "2                                NaN                                  NaN   \n",
       "3                                NaN                                  NaN   \n",
       "4                                NaN                                  NaN   \n",
       "...                              ...                                  ...   \n",
       "23463                           4.60                                 2.45   \n",
       "23464                           4.61                                 2.49   \n",
       "23465                           4.62                                 2.53   \n",
       "23466                           4.62                                 2.56   \n",
       "23467                           4.63                                 2.59   \n",
       "\n",
       "       daily_vaccinations_per_million  \\\n",
       "0                                 NaN   \n",
       "1                                35.0   \n",
       "2                                35.0   \n",
       "3                                35.0   \n",
       "4                                35.0   \n",
       "...                               ...   \n",
       "23463                           914.0   \n",
       "23464                           764.0   \n",
       "23465                           572.0   \n",
       "23466                           540.0   \n",
       "23467                           518.0   \n",
       "\n",
       "                                                vaccines  \\\n",
       "0      Oxford/AstraZeneca, Pfizer/BioNTech, Sinopharm...   \n",
       "1      Oxford/AstraZeneca, Pfizer/BioNTech, Sinopharm...   \n",
       "2      Oxford/AstraZeneca, Pfizer/BioNTech, Sinopharm...   \n",
       "3      Oxford/AstraZeneca, Pfizer/BioNTech, Sinopharm...   \n",
       "4      Oxford/AstraZeneca, Pfizer/BioNTech, Sinopharm...   \n",
       "...                                                  ...   \n",
       "23463                                  Sinopharm/Beijing   \n",
       "23464                                  Sinopharm/Beijing   \n",
       "23465                                  Sinopharm/Beijing   \n",
       "23466                                  Sinopharm/Beijing   \n",
       "23467                                  Sinopharm/Beijing   \n",
       "\n",
       "                     source_name  \\\n",
       "0      World Health Organization   \n",
       "1      World Health Organization   \n",
       "2      World Health Organization   \n",
       "3      World Health Organization   \n",
       "4      World Health Organization   \n",
       "...                          ...   \n",
       "23463         Ministry of Health   \n",
       "23464         Ministry of Health   \n",
       "23465         Ministry of Health   \n",
       "23466         Ministry of Health   \n",
       "23467         Ministry of Health   \n",
       "\n",
       "                                          source_website  \n",
       "0                               https://covid19.who.int/  \n",
       "1                               https://covid19.who.int/  \n",
       "2                               https://covid19.who.int/  \n",
       "3                               https://covid19.who.int/  \n",
       "4                               https://covid19.who.int/  \n",
       "...                                                  ...  \n",
       "23463  https://twitter.com/MoHCCZim/status/1402025430...  \n",
       "23464  https://twitter.com/MoHCCZim/status/1402025430...  \n",
       "23465  https://twitter.com/MoHCCZim/status/1402025430...  \n",
       "23466  https://twitter.com/MoHCCZim/status/1402025430...  \n",
       "23467  https://twitter.com/MoHCCZim/status/1402025430...  \n",
       "\n",
       "[23468 rows x 15 columns]"
      ]
     },
     "execution_count": 5,
     "metadata": {},
     "output_type": "execute_result"
    }
   ],
   "source": [
    "vac"
   ]
  },
  {
   "cell_type": "code",
   "execution_count": 6,
   "metadata": {},
   "outputs": [
    {
     "data": {
      "text/plain": [
       "(23468, 15)"
      ]
     },
     "execution_count": 6,
     "metadata": {},
     "output_type": "execute_result"
    }
   ],
   "source": [
    "vac.shape"
   ]
  },
  {
   "cell_type": "code",
   "execution_count": 7,
   "metadata": {},
   "outputs": [
    {
     "data": {
      "text/plain": [
       "country                                    0\n",
       "iso_code                                   0\n",
       "date                                       0\n",
       "total_vaccinations                     10280\n",
       "people_vaccinated                      11072\n",
       "people_fully_vaccinated                13697\n",
       "daily_vaccinations_raw                 12538\n",
       "daily_vaccinations                       229\n",
       "total_vaccinations_per_hundred         10280\n",
       "people_vaccinated_per_hundred          11072\n",
       "people_fully_vaccinated_per_hundred    13697\n",
       "daily_vaccinations_per_million           229\n",
       "vaccines                                   0\n",
       "source_name                                0\n",
       "source_website                             0\n",
       "dtype: int64"
      ]
     },
     "execution_count": 7,
     "metadata": {},
     "output_type": "execute_result"
    }
   ],
   "source": [
    "vac.isnull().sum()"
   ]
  },
  {
   "cell_type": "code",
   "execution_count": 8,
   "metadata": {},
   "outputs": [
    {
     "data": {
      "text/plain": [
       "Index(['country', 'iso_code', 'date', 'total_vaccinations',\n",
       "       'people_vaccinated', 'people_fully_vaccinated',\n",
       "       'daily_vaccinations_raw', 'daily_vaccinations',\n",
       "       'total_vaccinations_per_hundred', 'people_vaccinated_per_hundred',\n",
       "       'people_fully_vaccinated_per_hundred', 'daily_vaccinations_per_million',\n",
       "       'vaccines', 'source_name', 'source_website'],\n",
       "      dtype='object')"
      ]
     },
     "execution_count": 8,
     "metadata": {},
     "output_type": "execute_result"
    }
   ],
   "source": [
    "vac.columns"
   ]
  },
  {
   "cell_type": "code",
   "execution_count": 9,
   "metadata": {},
   "outputs": [
    {
     "name": "stdout",
     "output_type": "stream",
     "text": [
      "<class 'pandas.core.frame.DataFrame'>\n",
      "RangeIndex: 23468 entries, 0 to 23467\n",
      "Data columns (total 15 columns):\n",
      " #   Column                               Non-Null Count  Dtype  \n",
      "---  ------                               --------------  -----  \n",
      " 0   country                              23468 non-null  object \n",
      " 1   iso_code                             23468 non-null  object \n",
      " 2   date                                 23468 non-null  object \n",
      " 3   total_vaccinations                   13188 non-null  float64\n",
      " 4   people_vaccinated                    12396 non-null  float64\n",
      " 5   people_fully_vaccinated              9771 non-null   float64\n",
      " 6   daily_vaccinations_raw               10930 non-null  float64\n",
      " 7   daily_vaccinations                   23239 non-null  float64\n",
      " 8   total_vaccinations_per_hundred       13188 non-null  float64\n",
      " 9   people_vaccinated_per_hundred        12396 non-null  float64\n",
      " 10  people_fully_vaccinated_per_hundred  9771 non-null   float64\n",
      " 11  daily_vaccinations_per_million       23239 non-null  float64\n",
      " 12  vaccines                             23468 non-null  object \n",
      " 13  source_name                          23468 non-null  object \n",
      " 14  source_website                       23468 non-null  object \n",
      "dtypes: float64(9), object(6)\n",
      "memory usage: 2.7+ MB\n"
     ]
    }
   ],
   "source": [
    "vac.info()"
   ]
  },
  {
   "cell_type": "code",
   "execution_count": 10,
   "metadata": {},
   "outputs": [
    {
     "data": {
      "text/html": [
       "<div>\n",
       "<style scoped>\n",
       "    .dataframe tbody tr th:only-of-type {\n",
       "        vertical-align: middle;\n",
       "    }\n",
       "\n",
       "    .dataframe tbody tr th {\n",
       "        vertical-align: top;\n",
       "    }\n",
       "\n",
       "    .dataframe thead th {\n",
       "        text-align: right;\n",
       "    }\n",
       "</style>\n",
       "<table border=\"1\" class=\"dataframe\">\n",
       "  <thead>\n",
       "    <tr style=\"text-align: right;\">\n",
       "      <th></th>\n",
       "      <th>total_vaccinations</th>\n",
       "      <th>people_vaccinated</th>\n",
       "      <th>people_fully_vaccinated</th>\n",
       "      <th>daily_vaccinations_raw</th>\n",
       "      <th>daily_vaccinations</th>\n",
       "      <th>total_vaccinations_per_hundred</th>\n",
       "      <th>people_vaccinated_per_hundred</th>\n",
       "      <th>people_fully_vaccinated_per_hundred</th>\n",
       "      <th>daily_vaccinations_per_million</th>\n",
       "    </tr>\n",
       "  </thead>\n",
       "  <tbody>\n",
       "    <tr>\n",
       "      <th>count</th>\n",
       "      <td>1.318800e+04</td>\n",
       "      <td>1.239600e+04</td>\n",
       "      <td>9.771000e+03</td>\n",
       "      <td>1.093000e+04</td>\n",
       "      <td>2.323900e+04</td>\n",
       "      <td>13188.000000</td>\n",
       "      <td>12396.000000</td>\n",
       "      <td>9771.000000</td>\n",
       "      <td>23239.000000</td>\n",
       "    </tr>\n",
       "    <tr>\n",
       "      <th>mean</th>\n",
       "      <td>7.881621e+06</td>\n",
       "      <td>4.273327e+06</td>\n",
       "      <td>2.379615e+06</td>\n",
       "      <td>1.829314e+05</td>\n",
       "      <td>9.414671e+04</td>\n",
       "      <td>22.030738</td>\n",
       "      <td>15.135511</td>\n",
       "      <td>8.645363</td>\n",
       "      <td>3247.743061</td>\n",
       "    </tr>\n",
       "    <tr>\n",
       "      <th>std</th>\n",
       "      <td>3.736120e+07</td>\n",
       "      <td>1.578617e+07</td>\n",
       "      <td>9.902365e+06</td>\n",
       "      <td>9.953903e+05</td>\n",
       "      <td>6.527215e+05</td>\n",
       "      <td>28.918313</td>\n",
       "      <td>18.073016</td>\n",
       "      <td>12.581196</td>\n",
       "      <td>4584.199398</td>\n",
       "    </tr>\n",
       "    <tr>\n",
       "      <th>min</th>\n",
       "      <td>0.000000e+00</td>\n",
       "      <td>0.000000e+00</td>\n",
       "      <td>1.000000e+00</td>\n",
       "      <td>0.000000e+00</td>\n",
       "      <td>0.000000e+00</td>\n",
       "      <td>0.000000</td>\n",
       "      <td>0.000000</td>\n",
       "      <td>0.000000</td>\n",
       "      <td>0.000000</td>\n",
       "    </tr>\n",
       "    <tr>\n",
       "      <th>25%</th>\n",
       "      <td>8.706825e+04</td>\n",
       "      <td>7.094775e+04</td>\n",
       "      <td>3.377300e+04</td>\n",
       "      <td>3.670000e+03</td>\n",
       "      <td>8.230000e+02</td>\n",
       "      <td>2.070000</td>\n",
       "      <td>1.857500</td>\n",
       "      <td>0.910000</td>\n",
       "      <td>359.000000</td>\n",
       "    </tr>\n",
       "    <tr>\n",
       "      <th>50%</th>\n",
       "      <td>6.232595e+05</td>\n",
       "      <td>4.740495e+05</td>\n",
       "      <td>2.531460e+05</td>\n",
       "      <td>1.916850e+04</td>\n",
       "      <td>5.974000e+03</td>\n",
       "      <td>9.940000</td>\n",
       "      <td>7.600000</td>\n",
       "      <td>3.630000</td>\n",
       "      <td>1658.000000</td>\n",
       "    </tr>\n",
       "    <tr>\n",
       "      <th>75%</th>\n",
       "      <td>2.869333e+06</td>\n",
       "      <td>1.937770e+06</td>\n",
       "      <td>1.043344e+06</td>\n",
       "      <td>7.532625e+04</td>\n",
       "      <td>3.207400e+04</td>\n",
       "      <td>30.782500</td>\n",
       "      <td>22.482500</td>\n",
       "      <td>10.950000</td>\n",
       "      <td>4653.000000</td>\n",
       "    </tr>\n",
       "    <tr>\n",
       "      <th>max</th>\n",
       "      <td>8.089620e+08</td>\n",
       "      <td>1.883639e+08</td>\n",
       "      <td>1.404420e+08</td>\n",
       "      <td>2.291800e+07</td>\n",
       "      <td>2.029871e+07</td>\n",
       "      <td>230.780000</td>\n",
       "      <td>116.110000</td>\n",
       "      <td>114.670000</td>\n",
       "      <td>118759.000000</td>\n",
       "    </tr>\n",
       "  </tbody>\n",
       "</table>\n",
       "</div>"
      ],
      "text/plain": [
       "       total_vaccinations  people_vaccinated  people_fully_vaccinated  \\\n",
       "count        1.318800e+04       1.239600e+04             9.771000e+03   \n",
       "mean         7.881621e+06       4.273327e+06             2.379615e+06   \n",
       "std          3.736120e+07       1.578617e+07             9.902365e+06   \n",
       "min          0.000000e+00       0.000000e+00             1.000000e+00   \n",
       "25%          8.706825e+04       7.094775e+04             3.377300e+04   \n",
       "50%          6.232595e+05       4.740495e+05             2.531460e+05   \n",
       "75%          2.869333e+06       1.937770e+06             1.043344e+06   \n",
       "max          8.089620e+08       1.883639e+08             1.404420e+08   \n",
       "\n",
       "       daily_vaccinations_raw  daily_vaccinations  \\\n",
       "count            1.093000e+04        2.323900e+04   \n",
       "mean             1.829314e+05        9.414671e+04   \n",
       "std              9.953903e+05        6.527215e+05   \n",
       "min              0.000000e+00        0.000000e+00   \n",
       "25%              3.670000e+03        8.230000e+02   \n",
       "50%              1.916850e+04        5.974000e+03   \n",
       "75%              7.532625e+04        3.207400e+04   \n",
       "max              2.291800e+07        2.029871e+07   \n",
       "\n",
       "       total_vaccinations_per_hundred  people_vaccinated_per_hundred  \\\n",
       "count                    13188.000000                   12396.000000   \n",
       "mean                        22.030738                      15.135511   \n",
       "std                         28.918313                      18.073016   \n",
       "min                          0.000000                       0.000000   \n",
       "25%                          2.070000                       1.857500   \n",
       "50%                          9.940000                       7.600000   \n",
       "75%                         30.782500                      22.482500   \n",
       "max                        230.780000                     116.110000   \n",
       "\n",
       "       people_fully_vaccinated_per_hundred  daily_vaccinations_per_million  \n",
       "count                          9771.000000                    23239.000000  \n",
       "mean                              8.645363                     3247.743061  \n",
       "std                              12.581196                     4584.199398  \n",
       "min                               0.000000                        0.000000  \n",
       "25%                               0.910000                      359.000000  \n",
       "50%                               3.630000                     1658.000000  \n",
       "75%                              10.950000                     4653.000000  \n",
       "max                             114.670000                   118759.000000  "
      ]
     },
     "execution_count": 10,
     "metadata": {},
     "output_type": "execute_result"
    }
   ],
   "source": [
    "vac.describe()"
   ]
  },
  {
   "cell_type": "code",
   "execution_count": 11,
   "metadata": {},
   "outputs": [
    {
     "data": {
      "text/plain": [
       "count    1.318800e+04\n",
       "mean     7.881621e+06\n",
       "std      3.736120e+07\n",
       "min      0.000000e+00\n",
       "25%      8.706825e+04\n",
       "50%      6.232595e+05\n",
       "75%      2.869333e+06\n",
       "max      8.089620e+08\n",
       "Name: total_vaccinations, dtype: float64"
      ]
     },
     "execution_count": 11,
     "metadata": {},
     "output_type": "execute_result"
    }
   ],
   "source": [
    "vac.total_vaccinations.describe()"
   ]
  },
  {
   "cell_type": "code",
   "execution_count": 12,
   "metadata": {},
   "outputs": [],
   "source": [
    "vac.total_vaccinations=vac.total_vaccinations.fillna(vac.total_vaccinations.mean())"
   ]
  },
  {
   "cell_type": "code",
   "execution_count": 13,
   "metadata": {},
   "outputs": [
    {
     "data": {
      "text/plain": [
       "count    1.239600e+04\n",
       "mean     4.273327e+06\n",
       "std      1.578617e+07\n",
       "min      0.000000e+00\n",
       "25%      7.094775e+04\n",
       "50%      4.740495e+05\n",
       "75%      1.937770e+06\n",
       "max      1.883639e+08\n",
       "Name: people_vaccinated, dtype: float64"
      ]
     },
     "execution_count": 13,
     "metadata": {},
     "output_type": "execute_result"
    }
   ],
   "source": [
    "vac.people_vaccinated.describe()"
   ]
  },
  {
   "cell_type": "code",
   "execution_count": 14,
   "metadata": {},
   "outputs": [],
   "source": [
    "vac.people_vaccinated=vac.people_vaccinated.fillna(vac.people_vaccinated.mean())"
   ]
  },
  {
   "cell_type": "code",
   "execution_count": 15,
   "metadata": {},
   "outputs": [
    {
     "data": {
      "text/plain": [
       "count    9.771000e+03\n",
       "mean     2.379615e+06\n",
       "std      9.902365e+06\n",
       "min      1.000000e+00\n",
       "25%      3.377300e+04\n",
       "50%      2.531460e+05\n",
       "75%      1.043344e+06\n",
       "max      1.404420e+08\n",
       "Name: people_fully_vaccinated, dtype: float64"
      ]
     },
     "execution_count": 15,
     "metadata": {},
     "output_type": "execute_result"
    }
   ],
   "source": [
    "vac.people_fully_vaccinated.describe()"
   ]
  },
  {
   "cell_type": "code",
   "execution_count": 16,
   "metadata": {},
   "outputs": [],
   "source": [
    "vac.people_fully_vaccinated=vac.people_fully_vaccinated.fillna(vac.people_fully_vaccinated.mean())"
   ]
  },
  {
   "cell_type": "code",
   "execution_count": 17,
   "metadata": {},
   "outputs": [
    {
     "data": {
      "text/plain": [
       "count    1.093000e+04\n",
       "mean     1.829314e+05\n",
       "std      9.953903e+05\n",
       "min      0.000000e+00\n",
       "25%      3.670000e+03\n",
       "50%      1.916850e+04\n",
       "75%      7.532625e+04\n",
       "max      2.291800e+07\n",
       "Name: daily_vaccinations_raw, dtype: float64"
      ]
     },
     "execution_count": 17,
     "metadata": {},
     "output_type": "execute_result"
    }
   ],
   "source": [
    "vac.daily_vaccinations_raw.describe()"
   ]
  },
  {
   "cell_type": "code",
   "execution_count": 18,
   "metadata": {},
   "outputs": [],
   "source": [
    "vac.daily_vaccinations_raw=vac.daily_vaccinations_raw.fillna(vac.daily_vaccinations_raw.mean())"
   ]
  },
  {
   "cell_type": "code",
   "execution_count": 19,
   "metadata": {},
   "outputs": [
    {
     "data": {
      "text/plain": [
       "count    2.323900e+04\n",
       "mean     9.414671e+04\n",
       "std      6.527215e+05\n",
       "min      0.000000e+00\n",
       "25%      8.230000e+02\n",
       "50%      5.974000e+03\n",
       "75%      3.207400e+04\n",
       "max      2.029871e+07\n",
       "Name: daily_vaccinations, dtype: float64"
      ]
     },
     "execution_count": 19,
     "metadata": {},
     "output_type": "execute_result"
    }
   ],
   "source": [
    "vac.daily_vaccinations.describe()"
   ]
  },
  {
   "cell_type": "code",
   "execution_count": 20,
   "metadata": {},
   "outputs": [],
   "source": [
    "vac.daily_vaccinations=vac.daily_vaccinations.fillna(vac.daily_vaccinations.mean())"
   ]
  },
  {
   "cell_type": "code",
   "execution_count": 21,
   "metadata": {},
   "outputs": [
    {
     "data": {
      "text/plain": [
       "count    13188.000000\n",
       "mean        22.030738\n",
       "std         28.918313\n",
       "min          0.000000\n",
       "25%          2.070000\n",
       "50%          9.940000\n",
       "75%         30.782500\n",
       "max        230.780000\n",
       "Name: total_vaccinations_per_hundred, dtype: float64"
      ]
     },
     "execution_count": 21,
     "metadata": {},
     "output_type": "execute_result"
    }
   ],
   "source": [
    "vac.total_vaccinations_per_hundred.describe()"
   ]
  },
  {
   "cell_type": "code",
   "execution_count": 22,
   "metadata": {},
   "outputs": [],
   "source": [
    "vac.total_vaccinations_per_hundred=vac.total_vaccinations_per_hundred.fillna(vac.total_vaccinations_per_hundred.mean())"
   ]
  },
  {
   "cell_type": "code",
   "execution_count": 23,
   "metadata": {},
   "outputs": [
    {
     "data": {
      "text/plain": [
       "count    12396.000000\n",
       "mean        15.135511\n",
       "std         18.073016\n",
       "min          0.000000\n",
       "25%          1.857500\n",
       "50%          7.600000\n",
       "75%         22.482500\n",
       "max        116.110000\n",
       "Name: people_vaccinated_per_hundred, dtype: float64"
      ]
     },
     "execution_count": 23,
     "metadata": {},
     "output_type": "execute_result"
    }
   ],
   "source": [
    "vac.people_vaccinated_per_hundred.describe()"
   ]
  },
  {
   "cell_type": "code",
   "execution_count": 24,
   "metadata": {},
   "outputs": [],
   "source": [
    "vac.people_vaccinated_per_hundred=vac.people_vaccinated_per_hundred.fillna(vac.people_vaccinated_per_hundred.mean())"
   ]
  },
  {
   "cell_type": "code",
   "execution_count": 25,
   "metadata": {},
   "outputs": [
    {
     "data": {
      "text/plain": [
       "count    9771.000000\n",
       "mean        8.645363\n",
       "std        12.581196\n",
       "min         0.000000\n",
       "25%         0.910000\n",
       "50%         3.630000\n",
       "75%        10.950000\n",
       "max       114.670000\n",
       "Name: people_fully_vaccinated_per_hundred, dtype: float64"
      ]
     },
     "execution_count": 25,
     "metadata": {},
     "output_type": "execute_result"
    }
   ],
   "source": [
    "vac.people_fully_vaccinated_per_hundred.describe()"
   ]
  },
  {
   "cell_type": "code",
   "execution_count": 26,
   "metadata": {},
   "outputs": [],
   "source": [
    "vac.people_fully_vaccinated_per_hundred=vac.people_fully_vaccinated_per_hundred.fillna(vac.people_fully_vaccinated_per_hundred.mean())"
   ]
  },
  {
   "cell_type": "code",
   "execution_count": 27,
   "metadata": {},
   "outputs": [
    {
     "data": {
      "text/plain": [
       "count     23239.000000\n",
       "mean       3247.743061\n",
       "std        4584.199398\n",
       "min           0.000000\n",
       "25%         359.000000\n",
       "50%        1658.000000\n",
       "75%        4653.000000\n",
       "max      118759.000000\n",
       "Name: daily_vaccinations_per_million, dtype: float64"
      ]
     },
     "execution_count": 27,
     "metadata": {},
     "output_type": "execute_result"
    }
   ],
   "source": [
    "vac.daily_vaccinations_per_million.describe()"
   ]
  },
  {
   "cell_type": "code",
   "execution_count": 28,
   "metadata": {},
   "outputs": [],
   "source": [
    "vac.daily_vaccinations_per_million=vac.daily_vaccinations_per_million.fillna(vac.daily_vaccinations_per_million.mean())"
   ]
  },
  {
   "cell_type": "code",
   "execution_count": 29,
   "metadata": {},
   "outputs": [],
   "source": [
    "from sklearn.preprocessing import LabelEncoder"
   ]
  },
  {
   "cell_type": "code",
   "execution_count": 30,
   "metadata": {},
   "outputs": [],
   "source": [
    "le=LabelEncoder()"
   ]
  },
  {
   "cell_type": "code",
   "execution_count": 31,
   "metadata": {},
   "outputs": [],
   "source": [
    "vac[vac.select_dtypes(include=['object']).columns]=vac[vac.select_dtypes(include=['object']).columns].apply(le.fit_transform)"
   ]
  },
  {
   "cell_type": "code",
   "execution_count": 73,
   "metadata": {},
   "outputs": [],
   "source": [
    "from sklearn.model_selection import train_test_split"
   ]
  },
  {
   "cell_type": "code",
   "execution_count": 74,
   "metadata": {},
   "outputs": [],
   "source": [
    "vac_train,vac_test=train_test_split(vac,test_size=.2)"
   ]
  },
  {
   "cell_type": "code",
   "execution_count": 75,
   "metadata": {},
   "outputs": [],
   "source": [
    "vac_train_x=vac_train.iloc[:,0:-1]"
   ]
  },
  {
   "cell_type": "code",
   "execution_count": 76,
   "metadata": {},
   "outputs": [],
   "source": [
    "vac_train_y=vac_train.iloc[:,-1]"
   ]
  },
  {
   "cell_type": "code",
   "execution_count": 77,
   "metadata": {},
   "outputs": [],
   "source": [
    "vac_test_x=vac_test.iloc[:,0:-1]"
   ]
  },
  {
   "cell_type": "code",
   "execution_count": 78,
   "metadata": {},
   "outputs": [],
   "source": [
    "vac_test_y=vac_test.iloc[:,-1]"
   ]
  },
  {
   "cell_type": "markdown",
   "metadata": {},
   "source": [
    "# boxplots"
   ]
  },
  {
   "cell_type": "code",
   "execution_count": 38,
   "metadata": {},
   "outputs": [
    {
     "name": "stderr",
     "output_type": "stream",
     "text": [
      "C:\\Users\\DELL\\anaconda3\\lib\\site-packages\\seaborn\\_decorators.py:36: FutureWarning: Pass the following variable as a keyword arg: x. From version 0.12, the only valid positional argument will be `data`, and passing other arguments without an explicit keyword will result in an error or misinterpretation.\n",
      "  warnings.warn(\n"
     ]
    },
    {
     "data": {
      "text/plain": [
       "<AxesSubplot:xlabel='country'>"
      ]
     },
     "execution_count": 38,
     "metadata": {},
     "output_type": "execute_result"
    },
    {
     "data": {
      "image/png": "[encoded data removed]",
      "text/plain": [
       "<Figure size 432x288 with 1 Axes>"
      ]
     },
     "metadata": {
      "needs_background": "light"
     },
     "output_type": "display_data"
    }
   ],
   "source": [
    "sns.boxplot(vac.country)"
   ]
  },
  {
   "cell_type": "code",
   "execution_count": 39,
   "metadata": {},
   "outputs": [
    {
     "name": "stderr",
     "output_type": "stream",
     "text": [
      "C:\\Users\\DELL\\anaconda3\\lib\\site-packages\\seaborn\\_decorators.py:36: FutureWarning: Pass the following variable as a keyword arg: x. From version 0.12, the only valid positional argument will be `data`, and passing other arguments without an explicit keyword will result in an error or misinterpretation.\n",
      "  warnings.warn(\n"
     ]
    },
    {
     "data": {
      "text/plain": [
       "<AxesSubplot:xlabel='iso_code'>"
      ]
     },
     "execution_count": 39,
     "metadata": {},
     "output_type": "execute_result"
    },
    {
     "data": {
      "image/png": "[encoded data removed]",
      "text/plain": [
       "<Figure size 432x288 with 1 Axes>"
      ]
     },
     "metadata": {
      "needs_background": "light"
     },
     "output_type": "display_data"
    }
   ],
   "source": [
    "sns.boxplot(vac.iso_code)"
   ]
  },
  {
   "cell_type": "code",
   "execution_count": 40,
   "metadata": {},
   "outputs": [
    {
     "name": "stderr",
     "output_type": "stream",
     "text": [
      "C:\\Users\\DELL\\anaconda3\\lib\\site-packages\\seaborn\\_decorators.py:36: FutureWarning: Pass the following variable as a keyword arg: x. From version 0.12, the only valid positional argument will be `data`, and passing other arguments without an explicit keyword will result in an error or misinterpretation.\n",
      "  warnings.warn(\n"
     ]
    },
    {
     "data": {
      "text/plain": [
       "<AxesSubplot:xlabel='total_vaccinations'>"
      ]
     },
     "execution_count": 40,
     "metadata": {},
     "output_type": "execute_result"
    },
    {
     "data": {
      "image/png": "[encoded data removed]",
      "text/plain": [
       "<Figure size 432x288 with 1 Axes>"
      ]
     },
     "metadata": {
      "needs_background": "light"
     },
     "output_type": "display_data"
    }
   ],
   "source": [
    "sns.boxplot(vac.total_vaccinations)"
   ]
  },
  {
   "cell_type": "code",
   "execution_count": 41,
   "metadata": {},
   "outputs": [
    {
     "name": "stderr",
     "output_type": "stream",
     "text": [
      "C:\\Users\\DELL\\anaconda3\\lib\\site-packages\\seaborn\\_decorators.py:36: FutureWarning: Pass the following variable as a keyword arg: x. From version 0.12, the only valid positional argument will be `data`, and passing other arguments without an explicit keyword will result in an error or misinterpretation.\n",
      "  warnings.warn(\n"
     ]
    },
    {
     "data": {
      "text/plain": [
       "<AxesSubplot:xlabel='vaccines'>"
      ]
     },
     "execution_count": 41,
     "metadata": {},
     "output_type": "execute_result"
    },
    {
     "data": {
      "image/png": "[encoded data removed]",
      "text/plain": [
       "<Figure size 432x288 with 1 Axes>"
      ]
     },
     "metadata": {
      "needs_background": "light"
     },
     "output_type": "display_data"
    }
   ],
   "source": [
    "sns.boxplot(vac.vaccines)"
   ]
  },
  {
   "cell_type": "code",
   "execution_count": 42,
   "metadata": {},
   "outputs": [
    {
     "name": "stderr",
     "output_type": "stream",
     "text": [
      "C:\\Users\\DELL\\anaconda3\\lib\\site-packages\\seaborn\\_decorators.py:36: FutureWarning: Pass the following variable as a keyword arg: x. From version 0.12, the only valid positional argument will be `data`, and passing other arguments without an explicit keyword will result in an error or misinterpretation.\n",
      "  warnings.warn(\n"
     ]
    },
    {
     "data": {
      "text/plain": [
       "<AxesSubplot:xlabel='source_name'>"
      ]
     },
     "execution_count": 42,
     "metadata": {},
     "output_type": "execute_result"
    },
    {
     "data": {
      "image/png": "[encoded data removed]",
      "text/plain": [
       "<Figure size 432x288 with 1 Axes>"
      ]
     },
     "metadata": {
      "needs_background": "light"
     },
     "output_type": "display_data"
    }
   ],
   "source": [
    "sns.boxplot(vac.source_name)"
   ]
  },
  {
   "cell_type": "code",
   "execution_count": 43,
   "metadata": {},
   "outputs": [
    {
     "name": "stderr",
     "output_type": "stream",
     "text": [
      "C:\\Users\\DELL\\anaconda3\\lib\\site-packages\\seaborn\\_decorators.py:36: FutureWarning: Pass the following variable as a keyword arg: x. From version 0.12, the only valid positional argument will be `data`, and passing other arguments without an explicit keyword will result in an error or misinterpretation.\n",
      "  warnings.warn(\n"
     ]
    },
    {
     "data": {
      "text/plain": [
       "<AxesSubplot:xlabel='source_website'>"
      ]
     },
     "execution_count": 43,
     "metadata": {},
     "output_type": "execute_result"
    },
    {
     "data": {
      "image/png": "[encoded data removed]",
      "text/plain": [
       "<Figure size 432x288 with 1 Axes>"
      ]
     },
     "metadata": {
      "needs_background": "light"
     },
     "output_type": "display_data"
    }
   ],
   "source": [
    "sns.boxplot(vac.source_website)"
   ]
  },
  {
   "cell_type": "code",
   "execution_count": 44,
   "metadata": {},
   "outputs": [
    {
     "data": {
      "text/plain": [
       "<AxesSubplot:xlabel='country', ylabel='vaccines'>"
      ]
     },
     "execution_count": 44,
     "metadata": {},
     "output_type": "execute_result"
    },
    {
     "data": {
      "image/png": "[encoded data removed]",
      "text/plain": [
       "<Figure size 432x288 with 1 Axes>"
      ]
     },
     "metadata": {
      "needs_background": "light"
     },
     "output_type": "display_data"
    }
   ],
   "source": [
    "sns.boxplot(x='country',y='vaccines',data=vac)"
   ]
  },
  {
   "cell_type": "code",
   "execution_count": 45,
   "metadata": {},
   "outputs": [
    {
     "data": {
      "text/plain": [
       "<AxesSubplot:xlabel='country', ylabel='iso_code'>"
      ]
     },
     "execution_count": 45,
     "metadata": {},
     "output_type": "execute_result"
    },
    {
     "data": {
      "image/png": "[encoded data removed]",
      "text/plain": [
       "<Figure size 432x288 with 1 Axes>"
      ]
     },
     "metadata": {
      "needs_background": "light"
     },
     "output_type": "display_data"
    }
   ],
   "source": [
    "sns.boxplot(x='country',y='iso_code',data=vac)"
   ]
  },
  {
   "cell_type": "code",
   "execution_count": 46,
   "metadata": {},
   "outputs": [
    {
     "data": {
      "text/plain": [
       "<AxesSubplot:xlabel='country', ylabel='total_vaccinations'>"
      ]
     },
     "execution_count": 46,
     "metadata": {},
     "output_type": "execute_result"
    },
    {
     "data": {
      "image/png": "[encoded data removed]",
      "text/plain": [
       "<Figure size 432x288 with 1 Axes>"
      ]
     },
     "metadata": {
      "needs_background": "light"
     },
     "output_type": "display_data"
    }
   ],
   "source": [
    "sns.boxplot(x='country',y='total_vaccinations',data=vac)"
   ]
  },
  {
   "cell_type": "markdown",
   "metadata": {},
   "source": [
    "# histograms"
   ]
  },
  {
   "cell_type": "code",
   "execution_count": 47,
   "metadata": {},
   "outputs": [
    {
     "data": {
      "text/plain": [
       "(array([2634., 1933., 2366., 2330., 2603., 2386., 2367., 2671., 2135.,\n",
       "        2043.]),\n",
       " array([  0. ,  21.4,  42.8,  64.2,  85.6, 107. , 128.4, 149.8, 171.2,\n",
       "        192.6, 214. ]),\n",
       " <BarContainer object of 10 artists>)"
      ]
     },
     "execution_count": 47,
     "metadata": {},
     "output_type": "execute_result"
    },
    {
     "data": {
      "image/png": "[encoded data removed]",
      "text/plain": [
       "<Figure size 432x288 with 1 Axes>"
      ]
     },
     "metadata": {
      "needs_background": "light"
     },
     "output_type": "display_data"
    }
   ],
   "source": [
    "plt.hist(vac.country)"
   ]
  },
  {
   "cell_type": "code",
   "execution_count": 48,
   "metadata": {},
   "outputs": [
    {
     "data": {
      "text/plain": [
       "(array([2422., 2095., 2682., 2400., 2504., 2520., 2356., 2771., 1965.,\n",
       "        1753.]),\n",
       " array([  0. ,  21.4,  42.8,  64.2,  85.6, 107. , 128.4, 149.8, 171.2,\n",
       "        192.6, 214. ]),\n",
       " <BarContainer object of 10 artists>)"
      ]
     },
     "execution_count": 48,
     "metadata": {},
     "output_type": "execute_result"
    },
    {
     "data": {
      "image/png": "[encoded data removed]",
      "text/plain": [
       "<Figure size 432x288 with 1 Axes>"
      ]
     },
     "metadata": {
      "needs_background": "light"
     },
     "output_type": "display_data"
    }
   ],
   "source": [
    "plt.hist(vac.iso_code)"
   ]
  },
  {
   "cell_type": "code",
   "execution_count": 49,
   "metadata": {},
   "outputs": [
    {
     "data": {
      "text/plain": [
       "(array([2.3233e+04, 7.7000e+01, 7.8000e+01, 4.9000e+01, 7.0000e+00,\n",
       "        6.0000e+00, 4.0000e+00, 5.0000e+00, 4.0000e+00, 5.0000e+00]),\n",
       " array([0.000000e+00, 8.089620e+07, 1.617924e+08, 2.426886e+08,\n",
       "        3.235848e+08, 4.044810e+08, 4.853772e+08, 5.662734e+08,\n",
       "        6.471696e+08, 7.280658e+08, 8.089620e+08]),\n",
       " <BarContainer object of 10 artists>)"
      ]
     },
     "execution_count": 49,
     "metadata": {},
     "output_type": "execute_result"
    },
    {
     "data": {
      "image/png": "[encoded data removed]",
      "text/plain": [
       "<Figure size 432x288 with 1 Axes>"
      ]
     },
     "metadata": {
      "needs_background": "light"
     },
     "output_type": "display_data"
    }
   ],
   "source": [
    "plt.hist(vac.total_vaccinations)"
   ]
  },
  {
   "cell_type": "code",
   "execution_count": 50,
   "metadata": {},
   "outputs": [
    {
     "data": {
      "text/plain": [
       "(array([ 651.,  579., 3518., 2407., 5651., 3326., 2833., 1335., 2205.,\n",
       "         963.]),\n",
       " array([ 0. ,  4.4,  8.8, 13.2, 17.6, 22. , 26.4, 30.8, 35.2, 39.6, 44. ]),\n",
       " <BarContainer object of 10 artists>)"
      ]
     },
     "execution_count": 50,
     "metadata": {},
     "output_type": "execute_result"
    },
    {
     "data": {
      "image/png": "[encoded data removed]",
      "text/plain": [
       "<Figure size 432x288 with 1 Axes>"
      ]
     },
     "metadata": {
      "needs_background": "light"
     },
     "output_type": "display_data"
    }
   ],
   "source": [
    "plt.hist(vac.vaccines)"
   ]
  },
  {
   "cell_type": "code",
   "execution_count": 51,
   "metadata": {},
   "outputs": [
    {
     "data": {
      "text/plain": [
       "(array([1559., 1295., 1213., 1112., 1054.,  900., 7810., 1525., 1374.,\n",
       "        5626.]),\n",
       " array([ 0. ,  9.4, 18.8, 28.2, 37.6, 47. , 56.4, 65.8, 75.2, 84.6, 94. ]),\n",
       " <BarContainer object of 10 artists>)"
      ]
     },
     "execution_count": 51,
     "metadata": {},
     "output_type": "execute_result"
    },
    {
     "data": {
      "image/png": "[encoded data removed]",
      "text/plain": [
       "<Figure size 432x288 with 1 Axes>"
      ]
     },
     "metadata": {
      "needs_background": "light"
     },
     "output_type": "display_data"
    }
   ],
   "source": [
    "plt.hist(vac.source_name)"
   ]
  },
  {
   "cell_type": "code",
   "execution_count": 52,
   "metadata": {},
   "outputs": [
    {
     "data": {
      "text/plain": [
       "(array([1895., 6437., 2152., 1892., 2372., 1530., 1908., 1582., 1741.,\n",
       "        1959.]),\n",
       " array([  0. ,  15.1,  30.2,  45.3,  60.4,  75.5,  90.6, 105.7, 120.8,\n",
       "        135.9, 151. ]),\n",
       " <BarContainer object of 10 artists>)"
      ]
     },
     "execution_count": 52,
     "metadata": {},
     "output_type": "execute_result"
    },
    {
     "data": {
      "image/png": "[encoded data removed]",
      "text/plain": [
       "<Figure size 432x288 with 1 Axes>"
      ]
     },
     "metadata": {
      "needs_background": "light"
     },
     "output_type": "display_data"
    }
   ],
   "source": [
    "plt.hist(vac.source_website)"
   ]
  },
  {
   "cell_type": "code",
   "execution_count": 53,
   "metadata": {},
   "outputs": [],
   "source": [
    "vac=vac.drop(['iso_code','source_website'],axis=1)"
   ]
  },
  {
   "cell_type": "code",
   "execution_count": 54,
   "metadata": {},
   "outputs": [
    {
     "data": {
      "text/html": [
       "<div>\n",
       "<style scoped>\n",
       "    .dataframe tbody tr th:only-of-type {\n",
       "        vertical-align: middle;\n",
       "    }\n",
       "\n",
       "    .dataframe tbody tr th {\n",
       "        vertical-align: top;\n",
       "    }\n",
       "\n",
       "    .dataframe thead th {\n",
       "        text-align: right;\n",
       "    }\n",
       "</style>\n",
       "<table border=\"1\" class=\"dataframe\">\n",
       "  <thead>\n",
       "    <tr style=\"text-align: right;\">\n",
       "      <th></th>\n",
       "      <th>country</th>\n",
       "      <th>date</th>\n",
       "      <th>total_vaccinations</th>\n",
       "      <th>people_vaccinated</th>\n",
       "      <th>people_fully_vaccinated</th>\n",
       "      <th>daily_vaccinations_raw</th>\n",
       "      <th>daily_vaccinations</th>\n",
       "      <th>total_vaccinations_per_hundred</th>\n",
       "      <th>people_vaccinated_per_hundred</th>\n",
       "      <th>people_fully_vaccinated_per_hundred</th>\n",
       "      <th>daily_vaccinations_per_million</th>\n",
       "      <th>vaccines</th>\n",
       "      <th>source_name</th>\n",
       "    </tr>\n",
       "  </thead>\n",
       "  <tbody>\n",
       "    <tr>\n",
       "      <th>0</th>\n",
       "      <td>0</td>\n",
       "      <td>134</td>\n",
       "      <td>0.000000e+00</td>\n",
       "      <td>0.000000e+00</td>\n",
       "      <td>2.379615e+06</td>\n",
       "      <td>182931.354529</td>\n",
       "      <td>94146.709411</td>\n",
       "      <td>0.000000</td>\n",
       "      <td>0.000000</td>\n",
       "      <td>8.645363</td>\n",
       "      <td>3247.743061</td>\n",
       "      <td>23</td>\n",
       "      <td>94</td>\n",
       "    </tr>\n",
       "    <tr>\n",
       "      <th>1</th>\n",
       "      <td>0</td>\n",
       "      <td>140</td>\n",
       "      <td>7.881621e+06</td>\n",
       "      <td>4.273327e+06</td>\n",
       "      <td>2.379615e+06</td>\n",
       "      <td>182931.354529</td>\n",
       "      <td>1367.000000</td>\n",
       "      <td>22.030738</td>\n",
       "      <td>15.135511</td>\n",
       "      <td>8.645363</td>\n",
       "      <td>35.000000</td>\n",
       "      <td>23</td>\n",
       "      <td>94</td>\n",
       "    </tr>\n",
       "    <tr>\n",
       "      <th>2</th>\n",
       "      <td>0</td>\n",
       "      <td>146</td>\n",
       "      <td>7.881621e+06</td>\n",
       "      <td>4.273327e+06</td>\n",
       "      <td>2.379615e+06</td>\n",
       "      <td>182931.354529</td>\n",
       "      <td>1367.000000</td>\n",
       "      <td>22.030738</td>\n",
       "      <td>15.135511</td>\n",
       "      <td>8.645363</td>\n",
       "      <td>35.000000</td>\n",
       "      <td>23</td>\n",
       "      <td>94</td>\n",
       "    </tr>\n",
       "    <tr>\n",
       "      <th>3</th>\n",
       "      <td>0</td>\n",
       "      <td>152</td>\n",
       "      <td>7.881621e+06</td>\n",
       "      <td>4.273327e+06</td>\n",
       "      <td>2.379615e+06</td>\n",
       "      <td>182931.354529</td>\n",
       "      <td>1367.000000</td>\n",
       "      <td>22.030738</td>\n",
       "      <td>15.135511</td>\n",
       "      <td>8.645363</td>\n",
       "      <td>35.000000</td>\n",
       "      <td>23</td>\n",
       "      <td>94</td>\n",
       "    </tr>\n",
       "    <tr>\n",
       "      <th>4</th>\n",
       "      <td>0</td>\n",
       "      <td>158</td>\n",
       "      <td>7.881621e+06</td>\n",
       "      <td>4.273327e+06</td>\n",
       "      <td>2.379615e+06</td>\n",
       "      <td>182931.354529</td>\n",
       "      <td>1367.000000</td>\n",
       "      <td>22.030738</td>\n",
       "      <td>15.135511</td>\n",
       "      <td>8.645363</td>\n",
       "      <td>35.000000</td>\n",
       "      <td>23</td>\n",
       "      <td>94</td>\n",
       "    </tr>\n",
       "  </tbody>\n",
       "</table>\n",
       "</div>"
      ],
      "text/plain": [
       "   country  date  total_vaccinations  people_vaccinated  \\\n",
       "0        0   134        0.000000e+00       0.000000e+00   \n",
       "1        0   140        7.881621e+06       4.273327e+06   \n",
       "2        0   146        7.881621e+06       4.273327e+06   \n",
       "3        0   152        7.881621e+06       4.273327e+06   \n",
       "4        0   158        7.881621e+06       4.273327e+06   \n",
       "\n",
       "   people_fully_vaccinated  daily_vaccinations_raw  daily_vaccinations  \\\n",
       "0             2.379615e+06           182931.354529        94146.709411   \n",
       "1             2.379615e+06           182931.354529         1367.000000   \n",
       "2             2.379615e+06           182931.354529         1367.000000   \n",
       "3             2.379615e+06           182931.354529         1367.000000   \n",
       "4             2.379615e+06           182931.354529         1367.000000   \n",
       "\n",
       "   total_vaccinations_per_hundred  people_vaccinated_per_hundred  \\\n",
       "0                        0.000000                       0.000000   \n",
       "1                       22.030738                      15.135511   \n",
       "2                       22.030738                      15.135511   \n",
       "3                       22.030738                      15.135511   \n",
       "4                       22.030738                      15.135511   \n",
       "\n",
       "   people_fully_vaccinated_per_hundred  daily_vaccinations_per_million  \\\n",
       "0                             8.645363                     3247.743061   \n",
       "1                             8.645363                       35.000000   \n",
       "2                             8.645363                       35.000000   \n",
       "3                             8.645363                       35.000000   \n",
       "4                             8.645363                       35.000000   \n",
       "\n",
       "   vaccines  source_name  \n",
       "0        23           94  \n",
       "1        23           94  \n",
       "2        23           94  \n",
       "3        23           94  \n",
       "4        23           94  "
      ]
     },
     "execution_count": 54,
     "metadata": {},
     "output_type": "execute_result"
    }
   ],
   "source": [
    "vac.head()"
   ]
  },
  {
   "cell_type": "markdown",
   "metadata": {},
   "source": [
    "# Linear Regression"
   ]
  },
  {
   "cell_type": "code",
   "execution_count": 79,
   "metadata": {},
   "outputs": [],
   "source": [
    "from sklearn.linear_model import LinearRegression"
   ]
  },
  {
   "cell_type": "code",
   "execution_count": 80,
   "metadata": {},
   "outputs": [],
   "source": [
    "linreg=LinearRegression()"
   ]
  },
  {
   "cell_type": "code",
   "execution_count": 81,
   "metadata": {},
   "outputs": [
    {
     "data": {
      "text/plain": [
       "LinearRegression()"
      ]
     },
     "execution_count": 81,
     "metadata": {},
     "output_type": "execute_result"
    }
   ],
   "source": [
    "linreg.fit(vac_train_x,vac_train_y)"
   ]
  },
  {
   "cell_type": "code",
   "execution_count": 82,
   "metadata": {},
   "outputs": [
    {
     "data": {
      "text/plain": [
       "0.08648069828282634"
      ]
     },
     "execution_count": 82,
     "metadata": {},
     "output_type": "execute_result"
    }
   ],
   "source": [
    "linreg.score(vac_train_x,vac_train_y)"
   ]
  },
  {
   "cell_type": "code",
   "execution_count": 83,
   "metadata": {},
   "outputs": [
    {
     "data": {
      "text/plain": [
       "array([57.21543729, 51.65104312, 54.26420346, ..., 61.10345202,\n",
       "       66.4481081 , 60.5550023 ])"
      ]
     },
     "execution_count": 83,
     "metadata": {},
     "output_type": "execute_result"
    }
   ],
   "source": [
    "pred_reg=linreg.predict(vac_train_x)\n",
    "pred_reg"
   ]
  },
  {
   "cell_type": "code",
   "execution_count": 84,
   "metadata": {},
   "outputs": [
    {
     "data": {
      "text/plain": [
       "array([ 4.64854327e-02,  4.62337434e-03,  5.37131254e-07, -3.61256950e-07,\n",
       "       -7.71434316e-07,  1.16449874e-05, -3.00490963e-05,  2.84206732e-02,\n",
       "        1.26867497e-01, -4.72635404e-01, -9.57630636e-04, -1.47241708e-01])"
      ]
     },
     "execution_count": 84,
     "metadata": {},
     "output_type": "execute_result"
    }
   ],
   "source": [
    "linreg.coef_"
   ]
  },
  {
   "cell_type": "code",
   "execution_count": 85,
   "metadata": {},
   "outputs": [
    {
     "data": {
      "text/plain": [
       "61.62195222548637"
      ]
     },
     "execution_count": 85,
     "metadata": {},
     "output_type": "execute_result"
    }
   ],
   "source": [
    "linreg.intercept_"
   ]
  },
  {
   "cell_type": "code",
   "execution_count": 86,
   "metadata": {},
   "outputs": [],
   "source": [
    "from sklearn.metrics import confusion_matrix"
   ]
  },
  {
   "cell_type": "code",
   "execution_count": 90,
   "metadata": {},
   "outputs": [
    {
     "ename": "ValueError",
     "evalue": "Found input variables with inconsistent numbers of samples: [18774, 4694]",
     "output_type": "error",
     "traceback": [
      "\u001b[1;31m---------------------------------------------------------------------------\u001b[0m",
      "\u001b[1;31mValueError\u001b[0m                                Traceback (most recent call last)",
      "\u001b[1;32m<ipython-input-90-210a1fced809>\u001b[0m in \u001b[0;36m<module>\u001b[1;34m\u001b[0m\n\u001b[1;32m----> 1\u001b[1;33m \u001b[0mtab1\u001b[0m\u001b[1;33m=\u001b[0m\u001b[0mconfusion_matrix\u001b[0m\u001b[1;33m(\u001b[0m\u001b[0mpred_reg\u001b[0m\u001b[1;33m,\u001b[0m\u001b[0mvac_test_y\u001b[0m\u001b[1;33m)\u001b[0m\u001b[1;33m\u001b[0m\u001b[1;33m\u001b[0m\u001b[0m\n\u001b[0m\u001b[0;32m      2\u001b[0m \u001b[0mtab1\u001b[0m\u001b[1;33m\u001b[0m\u001b[1;33m\u001b[0m\u001b[0m\n",
      "\u001b[1;32m~\\anaconda3\\lib\\site-packages\\sklearn\\utils\\validation.py\u001b[0m in \u001b[0;36minner_f\u001b[1;34m(*args, **kwargs)\u001b[0m\n\u001b[0;32m     70\u001b[0m                           FutureWarning)\n\u001b[0;32m     71\u001b[0m         \u001b[0mkwargs\u001b[0m\u001b[1;33m.\u001b[0m\u001b[0mupdate\u001b[0m\u001b[1;33m(\u001b[0m\u001b[1;33m{\u001b[0m\u001b[0mk\u001b[0m\u001b[1;33m:\u001b[0m \u001b[0marg\u001b[0m \u001b[1;32mfor\u001b[0m \u001b[0mk\u001b[0m\u001b[1;33m,\u001b[0m \u001b[0marg\u001b[0m \u001b[1;32min\u001b[0m \u001b[0mzip\u001b[0m\u001b[1;33m(\u001b[0m\u001b[0msig\u001b[0m\u001b[1;33m.\u001b[0m\u001b[0mparameters\u001b[0m\u001b[1;33m,\u001b[0m \u001b[0margs\u001b[0m\u001b[1;33m)\u001b[0m\u001b[1;33m}\u001b[0m\u001b[1;33m)\u001b[0m\u001b[1;33m\u001b[0m\u001b[1;33m\u001b[0m\u001b[0m\n\u001b[1;32m---> 72\u001b[1;33m         \u001b[1;32mreturn\u001b[0m \u001b[0mf\u001b[0m\u001b[1;33m(\u001b[0m\u001b[1;33m**\u001b[0m\u001b[0mkwargs\u001b[0m\u001b[1;33m)\u001b[0m\u001b[1;33m\u001b[0m\u001b[1;33m\u001b[0m\u001b[0m\n\u001b[0m\u001b[0;32m     73\u001b[0m     \u001b[1;32mreturn\u001b[0m \u001b[0minner_f\u001b[0m\u001b[1;33m\u001b[0m\u001b[1;33m\u001b[0m\u001b[0m\n\u001b[0;32m     74\u001b[0m \u001b[1;33m\u001b[0m\u001b[0m\n",
      "\u001b[1;32m~\\anaconda3\\lib\\site-packages\\sklearn\\metrics\\_classification.py\u001b[0m in \u001b[0;36mconfusion_matrix\u001b[1;34m(y_true, y_pred, labels, sample_weight, normalize)\u001b[0m\n\u001b[0;32m    274\u001b[0m \u001b[1;33m\u001b[0m\u001b[0m\n\u001b[0;32m    275\u001b[0m     \"\"\"\n\u001b[1;32m--> 276\u001b[1;33m     \u001b[0my_type\u001b[0m\u001b[1;33m,\u001b[0m \u001b[0my_true\u001b[0m\u001b[1;33m,\u001b[0m \u001b[0my_pred\u001b[0m \u001b[1;33m=\u001b[0m \u001b[0m_check_targets\u001b[0m\u001b[1;33m(\u001b[0m\u001b[0my_true\u001b[0m\u001b[1;33m,\u001b[0m \u001b[0my_pred\u001b[0m\u001b[1;33m)\u001b[0m\u001b[1;33m\u001b[0m\u001b[1;33m\u001b[0m\u001b[0m\n\u001b[0m\u001b[0;32m    277\u001b[0m     \u001b[1;32mif\u001b[0m \u001b[0my_type\u001b[0m \u001b[1;32mnot\u001b[0m \u001b[1;32min\u001b[0m \u001b[1;33m(\u001b[0m\u001b[1;34m\"binary\"\u001b[0m\u001b[1;33m,\u001b[0m \u001b[1;34m\"multiclass\"\u001b[0m\u001b[1;33m)\u001b[0m\u001b[1;33m:\u001b[0m\u001b[1;33m\u001b[0m\u001b[1;33m\u001b[0m\u001b[0m\n\u001b[0;32m    278\u001b[0m         \u001b[1;32mraise\u001b[0m \u001b[0mValueError\u001b[0m\u001b[1;33m(\u001b[0m\u001b[1;34m\"%s is not supported\"\u001b[0m \u001b[1;33m%\u001b[0m \u001b[0my_type\u001b[0m\u001b[1;33m)\u001b[0m\u001b[1;33m\u001b[0m\u001b[1;33m\u001b[0m\u001b[0m\n",
      "\u001b[1;32m~\\anaconda3\\lib\\site-packages\\sklearn\\metrics\\_classification.py\u001b[0m in \u001b[0;36m_check_targets\u001b[1;34m(y_true, y_pred)\u001b[0m\n\u001b[0;32m     79\u001b[0m     \u001b[0my_pred\u001b[0m \u001b[1;33m:\u001b[0m \u001b[0marray\u001b[0m \u001b[1;32mor\u001b[0m \u001b[0mindicator\u001b[0m \u001b[0mmatrix\u001b[0m\u001b[1;33m\u001b[0m\u001b[1;33m\u001b[0m\u001b[0m\n\u001b[0;32m     80\u001b[0m     \"\"\"\n\u001b[1;32m---> 81\u001b[1;33m     \u001b[0mcheck_consistent_length\u001b[0m\u001b[1;33m(\u001b[0m\u001b[0my_true\u001b[0m\u001b[1;33m,\u001b[0m \u001b[0my_pred\u001b[0m\u001b[1;33m)\u001b[0m\u001b[1;33m\u001b[0m\u001b[1;33m\u001b[0m\u001b[0m\n\u001b[0m\u001b[0;32m     82\u001b[0m     \u001b[0mtype_true\u001b[0m \u001b[1;33m=\u001b[0m \u001b[0mtype_of_target\u001b[0m\u001b[1;33m(\u001b[0m\u001b[0my_true\u001b[0m\u001b[1;33m)\u001b[0m\u001b[1;33m\u001b[0m\u001b[1;33m\u001b[0m\u001b[0m\n\u001b[0;32m     83\u001b[0m     \u001b[0mtype_pred\u001b[0m \u001b[1;33m=\u001b[0m \u001b[0mtype_of_target\u001b[0m\u001b[1;33m(\u001b[0m\u001b[0my_pred\u001b[0m\u001b[1;33m)\u001b[0m\u001b[1;33m\u001b[0m\u001b[1;33m\u001b[0m\u001b[0m\n",
      "\u001b[1;32m~\\anaconda3\\lib\\site-packages\\sklearn\\utils\\validation.py\u001b[0m in \u001b[0;36mcheck_consistent_length\u001b[1;34m(*arrays)\u001b[0m\n\u001b[0;32m    253\u001b[0m     \u001b[0muniques\u001b[0m \u001b[1;33m=\u001b[0m \u001b[0mnp\u001b[0m\u001b[1;33m.\u001b[0m\u001b[0munique\u001b[0m\u001b[1;33m(\u001b[0m\u001b[0mlengths\u001b[0m\u001b[1;33m)\u001b[0m\u001b[1;33m\u001b[0m\u001b[1;33m\u001b[0m\u001b[0m\n\u001b[0;32m    254\u001b[0m     \u001b[1;32mif\u001b[0m \u001b[0mlen\u001b[0m\u001b[1;33m(\u001b[0m\u001b[0muniques\u001b[0m\u001b[1;33m)\u001b[0m \u001b[1;33m>\u001b[0m \u001b[1;36m1\u001b[0m\u001b[1;33m:\u001b[0m\u001b[1;33m\u001b[0m\u001b[1;33m\u001b[0m\u001b[0m\n\u001b[1;32m--> 255\u001b[1;33m         raise ValueError(\"Found input variables with inconsistent numbers of\"\n\u001b[0m\u001b[0;32m    256\u001b[0m                          \" samples: %r\" % [int(l) for l in lengths])\n\u001b[0;32m    257\u001b[0m \u001b[1;33m\u001b[0m\u001b[0m\n",
      "\u001b[1;31mValueError\u001b[0m: Found input variables with inconsistent numbers of samples: [18774, 4694]"
     ]
    }
   ],
   "source": [
    "tab1=confusion_matrix(pred_reg,vac_test_y)\n",
    "tab1"
   ]
  },
  {
   "cell_type": "code",
   "execution_count": 88,
   "metadata": {},
   "outputs": [],
   "source": [
    "from sklearn.metrics import accuracy_score"
   ]
  },
  {
   "cell_type": "code",
   "execution_count": 89,
   "metadata": {},
   "outputs": [
    {
     "ename": "ValueError",
     "evalue": "Classification metrics can't handle a mix of continuous and multiclass targets",
     "output_type": "error",
     "traceback": [
      "\u001b[1;31m---------------------------------------------------------------------------\u001b[0m",
      "\u001b[1;31mValueError\u001b[0m                                Traceback (most recent call last)",
      "\u001b[1;32m<ipython-input-89-df8e584ebe5e>\u001b[0m in \u001b[0;36m<module>\u001b[1;34m\u001b[0m\n\u001b[1;32m----> 1\u001b[1;33m \u001b[0maccuracy_score\u001b[0m\u001b[1;33m(\u001b[0m\u001b[0mpred_reg\u001b[0m\u001b[1;33m,\u001b[0m\u001b[0mvac_train_y\u001b[0m\u001b[1;33m)\u001b[0m\u001b[1;33m*\u001b[0m\u001b[1;36m100\u001b[0m\u001b[1;33m\u001b[0m\u001b[1;33m\u001b[0m\u001b[0m\n\u001b[0m",
      "\u001b[1;32m~\\anaconda3\\lib\\site-packages\\sklearn\\utils\\validation.py\u001b[0m in \u001b[0;36minner_f\u001b[1;34m(*args, **kwargs)\u001b[0m\n\u001b[0;32m     70\u001b[0m                           FutureWarning)\n\u001b[0;32m     71\u001b[0m         \u001b[0mkwargs\u001b[0m\u001b[1;33m.\u001b[0m\u001b[0mupdate\u001b[0m\u001b[1;33m(\u001b[0m\u001b[1;33m{\u001b[0m\u001b[0mk\u001b[0m\u001b[1;33m:\u001b[0m \u001b[0marg\u001b[0m \u001b[1;32mfor\u001b[0m \u001b[0mk\u001b[0m\u001b[1;33m,\u001b[0m \u001b[0marg\u001b[0m \u001b[1;32min\u001b[0m \u001b[0mzip\u001b[0m\u001b[1;33m(\u001b[0m\u001b[0msig\u001b[0m\u001b[1;33m.\u001b[0m\u001b[0mparameters\u001b[0m\u001b[1;33m,\u001b[0m \u001b[0margs\u001b[0m\u001b[1;33m)\u001b[0m\u001b[1;33m}\u001b[0m\u001b[1;33m)\u001b[0m\u001b[1;33m\u001b[0m\u001b[1;33m\u001b[0m\u001b[0m\n\u001b[1;32m---> 72\u001b[1;33m         \u001b[1;32mreturn\u001b[0m \u001b[0mf\u001b[0m\u001b[1;33m(\u001b[0m\u001b[1;33m**\u001b[0m\u001b[0mkwargs\u001b[0m\u001b[1;33m)\u001b[0m\u001b[1;33m\u001b[0m\u001b[1;33m\u001b[0m\u001b[0m\n\u001b[0m\u001b[0;32m     73\u001b[0m     \u001b[1;32mreturn\u001b[0m \u001b[0minner_f\u001b[0m\u001b[1;33m\u001b[0m\u001b[1;33m\u001b[0m\u001b[0m\n\u001b[0;32m     74\u001b[0m \u001b[1;33m\u001b[0m\u001b[0m\n",
      "\u001b[1;32m~\\anaconda3\\lib\\site-packages\\sklearn\\metrics\\_classification.py\u001b[0m in \u001b[0;36maccuracy_score\u001b[1;34m(y_true, y_pred, normalize, sample_weight)\u001b[0m\n\u001b[0;32m    185\u001b[0m \u001b[1;33m\u001b[0m\u001b[0m\n\u001b[0;32m    186\u001b[0m     \u001b[1;31m# Compute accuracy for each possible representation\u001b[0m\u001b[1;33m\u001b[0m\u001b[1;33m\u001b[0m\u001b[1;33m\u001b[0m\u001b[0m\n\u001b[1;32m--> 187\u001b[1;33m     \u001b[0my_type\u001b[0m\u001b[1;33m,\u001b[0m \u001b[0my_true\u001b[0m\u001b[1;33m,\u001b[0m \u001b[0my_pred\u001b[0m \u001b[1;33m=\u001b[0m \u001b[0m_check_targets\u001b[0m\u001b[1;33m(\u001b[0m\u001b[0my_true\u001b[0m\u001b[1;33m,\u001b[0m \u001b[0my_pred\u001b[0m\u001b[1;33m)\u001b[0m\u001b[1;33m\u001b[0m\u001b[1;33m\u001b[0m\u001b[0m\n\u001b[0m\u001b[0;32m    188\u001b[0m     \u001b[0mcheck_consistent_length\u001b[0m\u001b[1;33m(\u001b[0m\u001b[0my_true\u001b[0m\u001b[1;33m,\u001b[0m \u001b[0my_pred\u001b[0m\u001b[1;33m,\u001b[0m \u001b[0msample_weight\u001b[0m\u001b[1;33m)\u001b[0m\u001b[1;33m\u001b[0m\u001b[1;33m\u001b[0m\u001b[0m\n\u001b[0;32m    189\u001b[0m     \u001b[1;32mif\u001b[0m \u001b[0my_type\u001b[0m\u001b[1;33m.\u001b[0m\u001b[0mstartswith\u001b[0m\u001b[1;33m(\u001b[0m\u001b[1;34m'multilabel'\u001b[0m\u001b[1;33m)\u001b[0m\u001b[1;33m:\u001b[0m\u001b[1;33m\u001b[0m\u001b[1;33m\u001b[0m\u001b[0m\n",
      "\u001b[1;32m~\\anaconda3\\lib\\site-packages\\sklearn\\metrics\\_classification.py\u001b[0m in \u001b[0;36m_check_targets\u001b[1;34m(y_true, y_pred)\u001b[0m\n\u001b[0;32m     88\u001b[0m \u001b[1;33m\u001b[0m\u001b[0m\n\u001b[0;32m     89\u001b[0m     \u001b[1;32mif\u001b[0m \u001b[0mlen\u001b[0m\u001b[1;33m(\u001b[0m\u001b[0my_type\u001b[0m\u001b[1;33m)\u001b[0m \u001b[1;33m>\u001b[0m \u001b[1;36m1\u001b[0m\u001b[1;33m:\u001b[0m\u001b[1;33m\u001b[0m\u001b[1;33m\u001b[0m\u001b[0m\n\u001b[1;32m---> 90\u001b[1;33m         raise ValueError(\"Classification metrics can't handle a mix of {0} \"\n\u001b[0m\u001b[0;32m     91\u001b[0m                          \"and {1} targets\".format(type_true, type_pred))\n\u001b[0;32m     92\u001b[0m \u001b[1;33m\u001b[0m\u001b[0m\n",
      "\u001b[1;31mValueError\u001b[0m: Classification metrics can't handle a mix of continuous and multiclass targets"
     ]
    }
   ],
   "source": [
    "accuracy_score(pred_reg,vac_train_y)*100"
   ]
  },
  {
   "cell_type": "markdown",
   "metadata": {},
   "source": [
    "# Logistic Regression"
   ]
  },
  {
   "cell_type": "code",
   "execution_count": 91,
   "metadata": {},
   "outputs": [],
   "source": [
    "from sklearn.linear_model import LogisticRegression"
   ]
  },
  {
   "cell_type": "code",
   "execution_count": 92,
   "metadata": {},
   "outputs": [],
   "source": [
    "logreg=LogisticRegression()"
   ]
  },
  {
   "cell_type": "code",
   "execution_count": 93,
   "metadata": {},
   "outputs": [
    {
     "name": "stderr",
     "output_type": "stream",
     "text": [
      "C:\\Users\\DELL\\anaconda3\\lib\\site-packages\\sklearn\\linear_model\\_logistic.py:762: ConvergenceWarning: lbfgs failed to converge (status=1):\n",
      "STOP: TOTAL NO. of ITERATIONS REACHED LIMIT.\n",
      "\n",
      "Increase the number of iterations (max_iter) or scale the data as shown in:\n",
      "    https://scikit-learn.org/stable/modules/preprocessing.html\n",
      "Please also refer to the documentation for alternative solver options:\n",
      "    https://scikit-learn.org/stable/modules/linear_model.html#logistic-regression\n",
      "  n_iter_i = _check_optimize_result(\n"
     ]
    },
    {
     "data": {
      "text/plain": [
       "LogisticRegression()"
      ]
     },
     "execution_count": 93,
     "metadata": {},
     "output_type": "execute_result"
    }
   ],
   "source": [
    "logreg.fit(vac_train_x,vac_train_y)"
   ]
  },
  {
   "cell_type": "code",
   "execution_count": 94,
   "metadata": {},
   "outputs": [
    {
     "data": {
      "text/plain": [
       "0.2524768296580377"
      ]
     },
     "execution_count": 94,
     "metadata": {},
     "output_type": "execute_result"
    }
   ],
   "source": [
    "logreg.score(vac_train_x,vac_train_y)"
   ]
  },
  {
   "cell_type": "code",
   "execution_count": 95,
   "metadata": {},
   "outputs": [
    {
     "data": {
      "text/plain": [
       "array([[ 4.06205360e-11,  2.67418730e-11, -4.26910748e-07, ...,\n",
       "         8.86229168e-12,  4.70564427e-09, -1.77243492e-12],\n",
       "       [-7.66062140e-11, -1.40991083e-10, -2.43783295e-07, ...,\n",
       "        -1.22354511e-11, -4.83170633e-09, -2.00966182e-11],\n",
       "       [-8.64320702e-11, -2.66013768e-11,  2.18699838e-07, ...,\n",
       "         3.83887698e-12,  3.23481425e-09, -6.23476781e-12],\n",
       "       ...,\n",
       "       [-1.34919397e-11,  3.49650509e-11, -1.43128530e-08, ...,\n",
       "         2.51601010e-12,  1.34142194e-09,  5.97445206e-12],\n",
       "       [ 2.40191378e-11, -7.79212505e-12, -1.36147607e-07, ...,\n",
       "        -5.77619716e-13, -1.69667412e-09, -2.99000923e-12],\n",
       "       [ 8.14128604e-10,  7.35646534e-10,  9.25318933e-07, ...,\n",
       "         3.99221204e-11, -1.48968490e-08,  1.83297097e-10]])"
      ]
     },
     "execution_count": 95,
     "metadata": {},
     "output_type": "execute_result"
    }
   ],
   "source": [
    "logreg.coef_"
   ]
  },
  {
   "cell_type": "code",
   "execution_count": 96,
   "metadata": {},
   "outputs": [
    {
     "data": {
      "text/plain": [
       "array([ 2.85237505e-13, -1.43514612e-12, -2.50344640e-13, -8.87399148e-12,\n",
       "       -3.20756517e-13, -6.34746003e-13,  1.82861039e-13, -4.41051162e-13,\n",
       "       -1.83162729e-13, -1.59434372e-13, -1.13123284e-12,  9.36213027e-13,\n",
       "        9.09143178e-14, -3.89030706e-13, -1.15600347e-13, -1.18569614e-13,\n",
       "       -1.26751016e-13, -3.52890826e-13, -7.61771778e-14, -3.32948764e-13,\n",
       "       -1.22515205e-13, -3.85091623e-13, -1.47185058e-13,  9.86163834e-14,\n",
       "       -2.84662731e-13, -3.89944787e-13,  8.20462978e-14, -1.75553683e-14,\n",
       "       -2.62063011e-12, -5.34771333e-13, -3.91112854e-13, -3.78204725e-13,\n",
       "       -3.40589897e-13, -3.37107627e-13,  5.76075814e-14,  4.86249980e-14,\n",
       "        5.58700171e-14,  1.56329767e-14,  6.91621925e-14, -3.55108311e-13,\n",
       "       -2.41290518e-13, -2.16128985e-13,  1.02027765e-13,  4.93405940e-14,\n",
       "       -4.32634351e-13, -4.00663563e-13, -1.31032282e-13, -2.72659196e-13,\n",
       "       -1.75957423e-13, -3.91325633e-13, -4.34392568e-13, -9.03595109e-14,\n",
       "       -2.41661256e-13, -4.24655560e-13, -1.94243534e-13, -4.23084804e-13,\n",
       "       -2.56973165e-13,  6.69103906e-13, -1.72179395e-14,  1.11240193e-13,\n",
       "       -1.37730213e-13,  2.34818969e-11, -5.50876114e-14, -7.61975442e-14,\n",
       "       -3.83020477e-13, -1.66080811e-13,  1.02067402e-14,  1.31743377e-14,\n",
       "       -3.63792182e-14, -4.26271738e-13, -4.37544261e-13, -4.67642430e-13,\n",
       "        4.08206885e-13, -7.29798928e-13, -2.37883286e-13,  4.36484431e-13,\n",
       "        3.93375752e-13,  4.29468470e-13, -1.20159870e-12, -4.80726759e-13,\n",
       "        1.95621983e-13, -3.17935157e-13, -3.96632212e-13, -1.13258409e-12,\n",
       "       -4.45431751e-13, -4.36969597e-13, -1.40518025e-12,  1.32996659e-13,\n",
       "       -4.47650447e-13,  1.63722443e-13, -8.20057122e-13, -1.81419808e-13,\n",
       "        3.56415578e-13, -1.17397688e-13,  7.25174537e-12])"
      ]
     },
     "execution_count": 96,
     "metadata": {},
     "output_type": "execute_result"
    }
   ],
   "source": [
    "logreg.intercept_"
   ]
  },
  {
   "cell_type": "code",
   "execution_count": 97,
   "metadata": {},
   "outputs": [
    {
     "data": {
      "text/plain": [
       "array([61, 94, 94, ..., 61, 94, 57])"
      ]
     },
     "execution_count": 97,
     "metadata": {},
     "output_type": "execute_result"
    }
   ],
   "source": [
    "pred_reg=logreg.predict(vac_train_x)\n",
    "pred_reg"
   ]
  },
  {
   "cell_type": "code",
   "execution_count": 98,
   "metadata": {},
   "outputs": [],
   "source": [
    "from sklearn.metrics import confusion_matrix"
   ]
  },
  {
   "cell_type": "code",
   "execution_count": 99,
   "metadata": {},
   "outputs": [
    {
     "data": {
      "text/plain": [
       "array([[   0,    0,    0, ...,    0,    0,    0],\n",
       "       [   0,    1,    0, ...,    0,    0,    0],\n",
       "       [   0,    0,    0, ...,    0,    0,    0],\n",
       "       ...,\n",
       "       [   0,    0,    0, ...,    0,    0,    0],\n",
       "       [   0,    0,    0, ...,    0,    0,    0],\n",
       "       [   1,   28,   96, ...,    3,   14, 2593]], dtype=int64)"
      ]
     },
     "execution_count": 99,
     "metadata": {},
     "output_type": "execute_result"
    }
   ],
   "source": [
    "tab1=confusion_matrix(pred_reg,vac_train_y)\n",
    "tab1"
   ]
  },
  {
   "cell_type": "code",
   "execution_count": 100,
   "metadata": {},
   "outputs": [],
   "source": [
    "from sklearn.metrics import accuracy_score"
   ]
  },
  {
   "cell_type": "code",
   "execution_count": 101,
   "metadata": {},
   "outputs": [
    {
     "data": {
      "text/plain": [
       "25.24768296580377"
      ]
     },
     "execution_count": 101,
     "metadata": {},
     "output_type": "execute_result"
    }
   ],
   "source": [
    "accuracy_score(pred_reg,vac_train_y)*100"
   ]
  },
  {
   "cell_type": "markdown",
   "metadata": {},
   "source": [
    "# Decision trees"
   ]
  },
  {
   "cell_type": "code",
   "execution_count": 103,
   "metadata": {},
   "outputs": [],
   "source": [
    "from sklearn.tree import DecisionTreeClassifier"
   ]
  },
  {
   "cell_type": "code",
   "execution_count": 104,
   "metadata": {},
   "outputs": [],
   "source": [
    "dt=DecisionTreeClassifier()"
   ]
  },
  {
   "cell_type": "code",
   "execution_count": 105,
   "metadata": {},
   "outputs": [
    {
     "data": {
      "text/plain": [
       "DecisionTreeClassifier()"
      ]
     },
     "execution_count": 105,
     "metadata": {},
     "output_type": "execute_result"
    }
   ],
   "source": [
    "dt.fit(vac_train_x,vac_train_y)"
   ]
  },
  {
   "cell_type": "code",
   "execution_count": 106,
   "metadata": {},
   "outputs": [
    {
     "data": {
      "text/plain": [
       "1.0"
      ]
     },
     "execution_count": 106,
     "metadata": {},
     "output_type": "execute_result"
    }
   ],
   "source": [
    "dt.score(vac_train_x,vac_train_y)"
   ]
  },
  {
   "cell_type": "code",
   "execution_count": 107,
   "metadata": {},
   "outputs": [
    {
     "data": {
      "text/plain": [
       "array([61, 61, 46, ..., 61, 41, 57])"
      ]
     },
     "execution_count": 107,
     "metadata": {},
     "output_type": "execute_result"
    }
   ],
   "source": [
    "pred_dt=dt.predict(vac_train_x)\n",
    "pred_dt"
   ]
  },
  {
   "cell_type": "code",
   "execution_count": 108,
   "metadata": {},
   "outputs": [],
   "source": [
    "from sklearn.metrics import confusion_matrix"
   ]
  },
  {
   "cell_type": "code",
   "execution_count": 109,
   "metadata": {},
   "outputs": [
    {
     "data": {
      "text/plain": [
       "array([[ 109,    0,    0, ...,    0,    0,    0],\n",
       "       [   0,  119,    0, ...,    0,    0,    0],\n",
       "       [   0,    0,  128, ...,    0,    0,    0],\n",
       "       ...,\n",
       "       [   0,    0,    0, ...,  140,    0,    0],\n",
       "       [   0,    0,    0, ...,    0,   66,    0],\n",
       "       [   0,    0,    0, ...,    0,    0, 3027]], dtype=int64)"
      ]
     },
     "execution_count": 109,
     "metadata": {},
     "output_type": "execute_result"
    }
   ],
   "source": [
    "tab1=confusion_matrix(pred_dt,vac_train_y)\n",
    "tab1"
   ]
  },
  {
   "cell_type": "code",
   "execution_count": 110,
   "metadata": {},
   "outputs": [],
   "source": [
    "from sklearn.metrics import accuracy_score"
   ]
  },
  {
   "cell_type": "code",
   "execution_count": 111,
   "metadata": {},
   "outputs": [
    {
     "data": {
      "text/plain": [
       "1.0"
      ]
     },
     "execution_count": 111,
     "metadata": {},
     "output_type": "execute_result"
    }
   ],
   "source": [
    "accuracy_score(pred_dt,vac_train_y)"
   ]
  },
  {
   "cell_type": "markdown",
   "metadata": {},
   "source": [
    "# Random forest"
   ]
  },
  {
   "cell_type": "code",
   "execution_count": 112,
   "metadata": {},
   "outputs": [],
   "source": [
    "from sklearn.ensemble import RandomForestClassifier"
   ]
  },
  {
   "cell_type": "code",
   "execution_count": 113,
   "metadata": {},
   "outputs": [],
   "source": [
    "rf=RandomForestClassifier()"
   ]
  },
  {
   "cell_type": "code",
   "execution_count": 114,
   "metadata": {},
   "outputs": [
    {
     "data": {
      "text/plain": [
       "RandomForestClassifier()"
      ]
     },
     "execution_count": 114,
     "metadata": {},
     "output_type": "execute_result"
    }
   ],
   "source": [
    "rf.fit(vac_train_x,vac_train_y)"
   ]
  },
  {
   "cell_type": "code",
   "execution_count": 115,
   "metadata": {},
   "outputs": [
    {
     "data": {
      "text/plain": [
       "1.0"
      ]
     },
     "execution_count": 115,
     "metadata": {},
     "output_type": "execute_result"
    }
   ],
   "source": [
    "rf.score(vac_train_x,vac_train_y)"
   ]
  },
  {
   "cell_type": "code",
   "execution_count": 116,
   "metadata": {},
   "outputs": [
    {
     "data": {
      "text/plain": [
       "array([61, 61, 46, ..., 61, 41, 57])"
      ]
     },
     "execution_count": 116,
     "metadata": {},
     "output_type": "execute_result"
    }
   ],
   "source": [
    "pred_rf=rf.predict(vac_train_x)\n",
    "pred_rf"
   ]
  },
  {
   "cell_type": "code",
   "execution_count": 117,
   "metadata": {},
   "outputs": [],
   "source": [
    "from sklearn.metrics import confusion_matrix"
   ]
  },
  {
   "cell_type": "code",
   "execution_count": 118,
   "metadata": {},
   "outputs": [
    {
     "data": {
      "text/plain": [
       "array([[ 109,    0,    0, ...,    0,    0,    0],\n",
       "       [   0,  119,    0, ...,    0,    0,    0],\n",
       "       [   0,    0,  128, ...,    0,    0,    0],\n",
       "       ...,\n",
       "       [   0,    0,    0, ...,  140,    0,    0],\n",
       "       [   0,    0,    0, ...,    0,   66,    0],\n",
       "       [   0,    0,    0, ...,    0,    0, 3027]], dtype=int64)"
      ]
     },
     "execution_count": 118,
     "metadata": {},
     "output_type": "execute_result"
    }
   ],
   "source": [
    "tab1=confusion_matrix(pred_rf,vac_train_y)\n",
    "tab1"
   ]
  },
  {
   "cell_type": "code",
   "execution_count": 119,
   "metadata": {},
   "outputs": [],
   "source": [
    "from sklearn.metrics import accuracy_score"
   ]
  },
  {
   "cell_type": "code",
   "execution_count": 120,
   "metadata": {},
   "outputs": [
    {
     "data": {
      "text/plain": [
       "1.0"
      ]
     },
     "execution_count": 120,
     "metadata": {},
     "output_type": "execute_result"
    }
   ],
   "source": [
    "accuracy_score(pred_rf,vac_train_y)"
   ]
  },
  {
   "cell_type": "markdown",
   "metadata": {},
   "source": [
    "# Pie chart"
   ]
  },
  {
   "cell_type": "code",
   "execution_count": 122,
   "metadata": {},
   "outputs": [
    {
     "data": {
      "text/plain": [
       "([<matplotlib.patches.Wedge at 0x1ffd09c5fa0>,\n",
       "  <matplotlib.patches.Wedge at 0x1ffd09d16d0>,\n",
       "  <matplotlib.patches.Wedge at 0x1ffd09d1d60>,\n",
       "  <matplotlib.patches.Wedge at 0x1ffd09dd430>,\n",
       "  <matplotlib.patches.Wedge at 0x1ffd09ddac0>,\n",
       "  <matplotlib.patches.Wedge at 0x1ffd09e9190>],\n",
       " [Text(0.21316471456361924, 1.0791481846646507, 'AFGHANISTAN'),\n",
       "  Text(-0.9920308589942705, -0.47526284811995345, 'BANGLADESH'),\n",
       "  Text(0.05847809043212525, -1.098444496977163, 'MALAYSIA'),\n",
       "  Text(0.6522301842354419, -0.8857741172399437, 'LONDON'),\n",
       "  Text(0.9558614433705955, -0.544361002531851, 'INDIA'),\n",
       "  Text(1.084106096082776, -0.1863168603110388, 'AUSTRALIA')],\n",
       " [Text(0.11627166248924685, 0.5886262825443549, '44%'),\n",
       "  Text(-0.541107741269602, -0.2592342807927019, '27%'),\n",
       "  Text(0.031897140235704675, -0.5991515438057251, '11%'),\n",
       "  Text(0.35576191867387735, -0.4831495184945147, '8%'),\n",
       "  Text(0.5213789691112339, -0.29692418319919145, '6%'),\n",
       "  Text(0.5913305978633322, -0.10162737835147571, '5%')])"
      ]
     },
     "execution_count": 122,
     "metadata": {},
     "output_type": "execute_result"
    },
    {
     "data": {
      "image/png": "[encoded data removed]",
      "text/plain": [
       "<Figure size 720x576 with 1 Axes>"
      ]
     },
     "metadata": {},
     "output_type": "display_data"
    }
   ],
   "source": [
    "fig=plt.figure(figsize=(10,8))\n",
    "GDP=(19.4,11.8,4.8,3.4,2.5,2.4)\n",
    "countries=('AFGHANISTAN','BANGLADESH','MALAYSIA','LONDON','INDIA','AUSTRALIA')\n",
    "colors_list=['r','b','g','orange','tan','y']\n",
    "explode_list=[0,.2,0,0,0,.2]\n",
    "plt.pie(GDP,labels=countries,colors=colors_list,autopct='%1.0f%%')"
   ]
  },
  {
   "cell_type": "markdown",
   "metadata": {},
   "source": [
    "# Bar plot"
   ]
  },
  {
   "cell_type": "code",
   "execution_count": 124,
   "metadata": {},
   "outputs": [
    {
     "data": {
      "text/plain": [
       "<BarContainer object of 6 artists>"
      ]
     },
     "execution_count": 124,
     "metadata": {},
     "output_type": "execute_result"
    },
    {
     "data": {
      "image/png": "[encoded data removed]",
      "text/plain": [
       "<Figure size 720x576 with 1 Axes>"
      ]
     },
     "metadata": {
      "needs_background": "light"
     },
     "output_type": "display_data"
    }
   ],
   "source": [
    "fig=plt.figure(figsize=(10,8))\n",
    "plt.bar(countries,GDP)\n",
    "color_list=['g','b','y','orange','r','tan']\n",
    "plt.bar(countries,GDP,color=color_list)"
   ]
  },
  {
   "cell_type": "code",
   "execution_count": null,
   "metadata": {},
   "outputs": [],
   "source": []
  }
 ],
 "metadata": {
  "kernelspec": {
   "display_name": "Python 3",
   "language": "python",
   "name": "python3"
  },
  "language_info": {
   "codemirror_mode": {
    "name": "ipython",
    "version": 3
   },
   "file_extension": ".py",
   "mimetype": "text/x-python",
   "name": "python",
   "nbconvert_exporter": "python",
   "pygments_lexer": "ipython3",
   "version": "3.8.5"
  }
 },
 "nbformat": 4,
 "nbformat_minor": 4
}
